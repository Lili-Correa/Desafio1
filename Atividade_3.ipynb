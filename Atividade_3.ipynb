{
  "nbformat": 4,
  "nbformat_minor": 0,
  "metadata": {
    "colab": {
      "name": "Atividade 3.ipynb",
      "provenance": [],
      "collapsed_sections": [],
      "authorship_tag": "ABX9TyNpg/eYCx6qi8Fdn86gGIlD",
      "include_colab_link": true
    },
    "kernelspec": {
      "name": "python3",
      "display_name": "Python 3"
    },
    "language_info": {
      "name": "python"
    }
  },
  "cells": [
    {
      "cell_type": "markdown",
      "metadata": {
        "id": "view-in-github",
        "colab_type": "text"
      },
      "source": [
        "<a href=\"https://colab.research.google.com/github/Lili-Correa/Desafio1/blob/main/Atividade_3.ipynb\" target=\"_parent\"><img src=\"https://colab.research.google.com/assets/colab-badge.svg\" alt=\"Open In Colab\"/></a>"
      ]
    },
    {
      "cell_type": "code",
      "source": [
        "# Exercicio3"
      ],
      "metadata": {
        "id": "aTKu9Lo7D9Ah"
      },
      "execution_count": null,
      "outputs": []
    },
    {
      "cell_type": "markdown",
      "source": [
        "**Aline Correa - RA 2103051**"
      ],
      "metadata": {
        "id": "JcZNpvFfD7EC"
      }
    },
    {
      "cell_type": "code",
      "source": [
        "import pandas as pd"
      ],
      "metadata": {
        "id": "AqJljxBjEEY4"
      },
      "execution_count": 1,
      "outputs": []
    },
    {
      "cell_type": "code",
      "source": [
        "caminho_sergipe = '/content/DNSE2017.csv'\n",
        "sinasc = pd.read_csv(caminho_sergipe, dtype=str)\n",
        "sinasc.head()"
      ],
      "metadata": {
        "colab": {
          "base_uri": "https://localhost:8080/",
          "height": 270
        },
        "id": "FREixAC1EG9B",
        "outputId": "97a356c2-0b77-4a4a-f9a5-e7710913b78c"
      },
      "execution_count": 2,
      "outputs": [
        {
          "output_type": "execute_result",
          "data": {
            "text/html": [
              "\n",
              "  <div id=\"df-460d2bf4-17fb-4874-9ce4-d8d09f41008a\">\n",
              "    <div class=\"colab-df-container\">\n",
              "      <div>\n",
              "<style scoped>\n",
              "    .dataframe tbody tr th:only-of-type {\n",
              "        vertical-align: middle;\n",
              "    }\n",
              "\n",
              "    .dataframe tbody tr th {\n",
              "        vertical-align: top;\n",
              "    }\n",
              "\n",
              "    .dataframe thead th {\n",
              "        text-align: right;\n",
              "    }\n",
              "</style>\n",
              "<table border=\"1\" class=\"dataframe\">\n",
              "  <thead>\n",
              "    <tr style=\"text-align: right;\">\n",
              "      <th></th>\n",
              "      <th>contador</th>\n",
              "      <th>ORIGEM</th>\n",
              "      <th>CODESTAB</th>\n",
              "      <th>CODMUNNASC</th>\n",
              "      <th>LOCNASC</th>\n",
              "      <th>IDADEMAE</th>\n",
              "      <th>ESTCIVMAE</th>\n",
              "      <th>ESCMAE</th>\n",
              "      <th>CODOCUPMAE</th>\n",
              "      <th>QTDFILVIVO</th>\n",
              "      <th>QTDFILMORT</th>\n",
              "      <th>CODMUNRES</th>\n",
              "      <th>GESTACAO</th>\n",
              "      <th>GRAVIDEZ</th>\n",
              "      <th>PARTO</th>\n",
              "      <th>CONSULTAS</th>\n",
              "      <th>DTNASC</th>\n",
              "      <th>HORANASC</th>\n",
              "      <th>SEXO</th>\n",
              "      <th>APGAR1</th>\n",
              "      <th>APGAR5</th>\n",
              "      <th>RACACOR</th>\n",
              "      <th>PESO</th>\n",
              "      <th>IDANOMAL</th>\n",
              "      <th>DTCADASTRO</th>\n",
              "      <th>CODANOMAL</th>\n",
              "      <th>NUMEROLOTE</th>\n",
              "      <th>VERSAOSIST</th>\n",
              "      <th>DTRECEBIM</th>\n",
              "      <th>DIFDATA</th>\n",
              "      <th>DTRECORIGA</th>\n",
              "      <th>NATURALMAE</th>\n",
              "      <th>CODMUNNATU</th>\n",
              "      <th>CODUFNATU</th>\n",
              "      <th>ESCMAE2010</th>\n",
              "      <th>SERIESCMAE</th>\n",
              "      <th>DTNASCMAE</th>\n",
              "      <th>RACACORMAE</th>\n",
              "      <th>QTDGESTANT</th>\n",
              "      <th>QTDPARTNOR</th>\n",
              "      <th>QTDPARTCES</th>\n",
              "      <th>IDADEPAI</th>\n",
              "      <th>DTULTMENST</th>\n",
              "      <th>SEMAGESTAC</th>\n",
              "      <th>TPMETESTIM</th>\n",
              "      <th>CONSPRENAT</th>\n",
              "      <th>MESPRENAT</th>\n",
              "      <th>TPAPRESENT</th>\n",
              "      <th>STTRABPART</th>\n",
              "      <th>STCESPARTO</th>\n",
              "      <th>TPNASCASSI</th>\n",
              "      <th>TPFUNCRESP</th>\n",
              "      <th>TPDOCRESP</th>\n",
              "      <th>DTDECLARAC</th>\n",
              "      <th>ESCMAEAGR1</th>\n",
              "      <th>STDNEPIDEM</th>\n",
              "      <th>STDNNOVA</th>\n",
              "      <th>CODPAISRES</th>\n",
              "      <th>TPROBSON</th>\n",
              "      <th>PARIDADE</th>\n",
              "      <th>KOTELCHUCK</th>\n",
              "    </tr>\n",
              "  </thead>\n",
              "  <tbody>\n",
              "    <tr>\n",
              "      <th>0</th>\n",
              "      <td>1</td>\n",
              "      <td>1</td>\n",
              "      <td>2415631</td>\n",
              "      <td>230440</td>\n",
              "      <td>1</td>\n",
              "      <td>24</td>\n",
              "      <td>2</td>\n",
              "      <td>4</td>\n",
              "      <td>999992</td>\n",
              "      <td>01</td>\n",
              "      <td>00</td>\n",
              "      <td>280030</td>\n",
              "      <td>5</td>\n",
              "      <td>1</td>\n",
              "      <td>2</td>\n",
              "      <td>4</td>\n",
              "      <td>10012017</td>\n",
              "      <td>1413</td>\n",
              "      <td>1</td>\n",
              "      <td>09</td>\n",
              "      <td>10</td>\n",
              "      <td>4</td>\n",
              "      <td>3556</td>\n",
              "      <td>2</td>\n",
              "      <td>16012017</td>\n",
              "      <td>NaN</td>\n",
              "      <td>20170003</td>\n",
              "      <td>3.2.01</td>\n",
              "      <td>07022017</td>\n",
              "      <td>028</td>\n",
              "      <td>NaN</td>\n",
              "      <td>823</td>\n",
              "      <td>230075</td>\n",
              "      <td>23</td>\n",
              "      <td>3</td>\n",
              "      <td>NaN</td>\n",
              "      <td>08011993</td>\n",
              "      <td>4</td>\n",
              "      <td>01</td>\n",
              "      <td>00</td>\n",
              "      <td>01</td>\n",
              "      <td>NaN</td>\n",
              "      <td>NaN</td>\n",
              "      <td>40</td>\n",
              "      <td>9</td>\n",
              "      <td>10</td>\n",
              "      <td>NaN</td>\n",
              "      <td>1</td>\n",
              "      <td>2</td>\n",
              "      <td>1</td>\n",
              "      <td>1</td>\n",
              "      <td>NaN</td>\n",
              "      <td>0</td>\n",
              "      <td>NaN</td>\n",
              "      <td>12</td>\n",
              "      <td>0</td>\n",
              "      <td>1</td>\n",
              "      <td>NaN</td>\n",
              "      <td>05</td>\n",
              "      <td>1</td>\n",
              "      <td>9</td>\n",
              "    </tr>\n",
              "    <tr>\n",
              "      <th>1</th>\n",
              "      <td>2</td>\n",
              "      <td>1</td>\n",
              "      <td>2005050</td>\n",
              "      <td>270030</td>\n",
              "      <td>1</td>\n",
              "      <td>34</td>\n",
              "      <td>5</td>\n",
              "      <td>4</td>\n",
              "      <td>622020</td>\n",
              "      <td>03</td>\n",
              "      <td>01</td>\n",
              "      <td>280600</td>\n",
              "      <td>5</td>\n",
              "      <td>1</td>\n",
              "      <td>2</td>\n",
              "      <td>3</td>\n",
              "      <td>05042017</td>\n",
              "      <td>1425</td>\n",
              "      <td>1</td>\n",
              "      <td>08</td>\n",
              "      <td>09</td>\n",
              "      <td>4</td>\n",
              "      <td>2760</td>\n",
              "      <td>2</td>\n",
              "      <td>03072017</td>\n",
              "      <td>NaN</td>\n",
              "      <td>20170020</td>\n",
              "      <td>3.2.01</td>\n",
              "      <td>26072017</td>\n",
              "      <td>112</td>\n",
              "      <td>NaN</td>\n",
              "      <td>827</td>\n",
              "      <td>270400</td>\n",
              "      <td>27</td>\n",
              "      <td>3</td>\n",
              "      <td>3</td>\n",
              "      <td>06011983</td>\n",
              "      <td>4</td>\n",
              "      <td>04</td>\n",
              "      <td>03</td>\n",
              "      <td>NaN</td>\n",
              "      <td>NaN</td>\n",
              "      <td>14072016</td>\n",
              "      <td>37</td>\n",
              "      <td>8</td>\n",
              "      <td>05</td>\n",
              "      <td>03</td>\n",
              "      <td>1</td>\n",
              "      <td>2</td>\n",
              "      <td>2</td>\n",
              "      <td>1</td>\n",
              "      <td>NaN</td>\n",
              "      <td>3</td>\n",
              "      <td>05042017</td>\n",
              "      <td>06</td>\n",
              "      <td>0</td>\n",
              "      <td>1</td>\n",
              "      <td>NaN</td>\n",
              "      <td>03</td>\n",
              "      <td>1</td>\n",
              "      <td>3</td>\n",
              "    </tr>\n",
              "    <tr>\n",
              "      <th>2</th>\n",
              "      <td>3</td>\n",
              "      <td>1</td>\n",
              "      <td>2005050</td>\n",
              "      <td>270030</td>\n",
              "      <td>1</td>\n",
              "      <td>19</td>\n",
              "      <td>2</td>\n",
              "      <td>4</td>\n",
              "      <td>622020</td>\n",
              "      <td>NaN</td>\n",
              "      <td>NaN</td>\n",
              "      <td>280120</td>\n",
              "      <td>NaN</td>\n",
              "      <td>1</td>\n",
              "      <td>2</td>\n",
              "      <td>4</td>\n",
              "      <td>03042017</td>\n",
              "      <td>1250</td>\n",
              "      <td>1</td>\n",
              "      <td>08</td>\n",
              "      <td>09</td>\n",
              "      <td>4</td>\n",
              "      <td>3010</td>\n",
              "      <td>2</td>\n",
              "      <td>17042017</td>\n",
              "      <td>NaN</td>\n",
              "      <td>20170011</td>\n",
              "      <td>3.2.01</td>\n",
              "      <td>20042017</td>\n",
              "      <td>017</td>\n",
              "      <td>NaN</td>\n",
              "      <td>827</td>\n",
              "      <td>270030</td>\n",
              "      <td>27</td>\n",
              "      <td>3</td>\n",
              "      <td>3</td>\n",
              "      <td>21081997</td>\n",
              "      <td>4</td>\n",
              "      <td>NaN</td>\n",
              "      <td>NaN</td>\n",
              "      <td>NaN</td>\n",
              "      <td>26</td>\n",
              "      <td>NaN</td>\n",
              "      <td>NaN</td>\n",
              "      <td>NaN</td>\n",
              "      <td>08</td>\n",
              "      <td>01</td>\n",
              "      <td>1</td>\n",
              "      <td>1</td>\n",
              "      <td>2</td>\n",
              "      <td>1</td>\n",
              "      <td>NaN</td>\n",
              "      <td>3</td>\n",
              "      <td>03042017</td>\n",
              "      <td>06</td>\n",
              "      <td>0</td>\n",
              "      <td>1</td>\n",
              "      <td>NaN</td>\n",
              "      <td>11</td>\n",
              "      <td>0</td>\n",
              "      <td>5</td>\n",
              "    </tr>\n",
              "    <tr>\n",
              "      <th>3</th>\n",
              "      <td>4</td>\n",
              "      <td>1</td>\n",
              "      <td>2005026</td>\n",
              "      <td>270030</td>\n",
              "      <td>1</td>\n",
              "      <td>19</td>\n",
              "      <td>2</td>\n",
              "      <td>4</td>\n",
              "      <td>999992</td>\n",
              "      <td>01</td>\n",
              "      <td>NaN</td>\n",
              "      <td>280440</td>\n",
              "      <td>5</td>\n",
              "      <td>1</td>\n",
              "      <td>2</td>\n",
              "      <td>3</td>\n",
              "      <td>29042017</td>\n",
              "      <td>1615</td>\n",
              "      <td>2</td>\n",
              "      <td>08</td>\n",
              "      <td>09</td>\n",
              "      <td>4</td>\n",
              "      <td>3720</td>\n",
              "      <td>2</td>\n",
              "      <td>17052017</td>\n",
              "      <td>NaN</td>\n",
              "      <td>20170015</td>\n",
              "      <td>3.2.01</td>\n",
              "      <td>18052017</td>\n",
              "      <td>019</td>\n",
              "      <td>NaN</td>\n",
              "      <td>827</td>\n",
              "      <td>270170</td>\n",
              "      <td>27</td>\n",
              "      <td>2</td>\n",
              "      <td>8</td>\n",
              "      <td>10041998</td>\n",
              "      <td>4</td>\n",
              "      <td>01</td>\n",
              "      <td>NaN</td>\n",
              "      <td>01</td>\n",
              "      <td>NaN</td>\n",
              "      <td>08082016</td>\n",
              "      <td>37</td>\n",
              "      <td>8</td>\n",
              "      <td>04</td>\n",
              "      <td>04</td>\n",
              "      <td>1</td>\n",
              "      <td>1</td>\n",
              "      <td>1</td>\n",
              "      <td>1</td>\n",
              "      <td>2</td>\n",
              "      <td>3</td>\n",
              "      <td>29042017</td>\n",
              "      <td>04</td>\n",
              "      <td>0</td>\n",
              "      <td>1</td>\n",
              "      <td>NaN</td>\n",
              "      <td>05</td>\n",
              "      <td>1</td>\n",
              "      <td>2</td>\n",
              "    </tr>\n",
              "    <tr>\n",
              "      <th>4</th>\n",
              "      <td>5</td>\n",
              "      <td>1</td>\n",
              "      <td>2722429</td>\n",
              "      <td>270400</td>\n",
              "      <td>1</td>\n",
              "      <td>16</td>\n",
              "      <td>1</td>\n",
              "      <td>4</td>\n",
              "      <td>999991</td>\n",
              "      <td>00</td>\n",
              "      <td>04</td>\n",
              "      <td>280570</td>\n",
              "      <td>5</td>\n",
              "      <td>1</td>\n",
              "      <td>1</td>\n",
              "      <td>3</td>\n",
              "      <td>19042017</td>\n",
              "      <td>1014</td>\n",
              "      <td>1</td>\n",
              "      <td>09</td>\n",
              "      <td>10</td>\n",
              "      <td>4</td>\n",
              "      <td>2900</td>\n",
              "      <td>2</td>\n",
              "      <td>06062017</td>\n",
              "      <td>NaN</td>\n",
              "      <td>20170007</td>\n",
              "      <td>3.2.01</td>\n",
              "      <td>06062017</td>\n",
              "      <td>048</td>\n",
              "      <td>NaN</td>\n",
              "      <td>828</td>\n",
              "      <td>280030</td>\n",
              "      <td>28</td>\n",
              "      <td>3</td>\n",
              "      <td>1</td>\n",
              "      <td>30082000</td>\n",
              "      <td>4</td>\n",
              "      <td>00</td>\n",
              "      <td>00</td>\n",
              "      <td>00</td>\n",
              "      <td>NaN</td>\n",
              "      <td>20072016</td>\n",
              "      <td>38</td>\n",
              "      <td>8</td>\n",
              "      <td>05</td>\n",
              "      <td>05</td>\n",
              "      <td>1</td>\n",
              "      <td>2</td>\n",
              "      <td>3</td>\n",
              "      <td>3</td>\n",
              "      <td>2</td>\n",
              "      <td>4</td>\n",
              "      <td>19042017</td>\n",
              "      <td>05</td>\n",
              "      <td>0</td>\n",
              "      <td>1</td>\n",
              "      <td>NaN</td>\n",
              "      <td>03</td>\n",
              "      <td>1</td>\n",
              "      <td>2</td>\n",
              "    </tr>\n",
              "  </tbody>\n",
              "</table>\n",
              "</div>\n",
              "      <button class=\"colab-df-convert\" onclick=\"convertToInteractive('df-460d2bf4-17fb-4874-9ce4-d8d09f41008a')\"\n",
              "              title=\"Convert this dataframe to an interactive table.\"\n",
              "              style=\"display:none;\">\n",
              "        \n",
              "  <svg xmlns=\"http://www.w3.org/2000/svg\" height=\"24px\"viewBox=\"0 0 24 24\"\n",
              "       width=\"24px\">\n",
              "    <path d=\"M0 0h24v24H0V0z\" fill=\"none\"/>\n",
              "    <path d=\"M18.56 5.44l.94 2.06.94-2.06 2.06-.94-2.06-.94-.94-2.06-.94 2.06-2.06.94zm-11 1L8.5 8.5l.94-2.06 2.06-.94-2.06-.94L8.5 2.5l-.94 2.06-2.06.94zm10 10l.94 2.06.94-2.06 2.06-.94-2.06-.94-.94-2.06-.94 2.06-2.06.94z\"/><path d=\"M17.41 7.96l-1.37-1.37c-.4-.4-.92-.59-1.43-.59-.52 0-1.04.2-1.43.59L10.3 9.45l-7.72 7.72c-.78.78-.78 2.05 0 2.83L4 21.41c.39.39.9.59 1.41.59.51 0 1.02-.2 1.41-.59l7.78-7.78 2.81-2.81c.8-.78.8-2.07 0-2.86zM5.41 20L4 18.59l7.72-7.72 1.47 1.35L5.41 20z\"/>\n",
              "  </svg>\n",
              "      </button>\n",
              "      \n",
              "  <style>\n",
              "    .colab-df-container {\n",
              "      display:flex;\n",
              "      flex-wrap:wrap;\n",
              "      gap: 12px;\n",
              "    }\n",
              "\n",
              "    .colab-df-convert {\n",
              "      background-color: #E8F0FE;\n",
              "      border: none;\n",
              "      border-radius: 50%;\n",
              "      cursor: pointer;\n",
              "      display: none;\n",
              "      fill: #1967D2;\n",
              "      height: 32px;\n",
              "      padding: 0 0 0 0;\n",
              "      width: 32px;\n",
              "    }\n",
              "\n",
              "    .colab-df-convert:hover {\n",
              "      background-color: #E2EBFA;\n",
              "      box-shadow: 0px 1px 2px rgba(60, 64, 67, 0.3), 0px 1px 3px 1px rgba(60, 64, 67, 0.15);\n",
              "      fill: #174EA6;\n",
              "    }\n",
              "\n",
              "    [theme=dark] .colab-df-convert {\n",
              "      background-color: #3B4455;\n",
              "      fill: #D2E3FC;\n",
              "    }\n",
              "\n",
              "    [theme=dark] .colab-df-convert:hover {\n",
              "      background-color: #434B5C;\n",
              "      box-shadow: 0px 1px 3px 1px rgba(0, 0, 0, 0.15);\n",
              "      filter: drop-shadow(0px 1px 2px rgba(0, 0, 0, 0.3));\n",
              "      fill: #FFFFFF;\n",
              "    }\n",
              "  </style>\n",
              "\n",
              "      <script>\n",
              "        const buttonEl =\n",
              "          document.querySelector('#df-460d2bf4-17fb-4874-9ce4-d8d09f41008a button.colab-df-convert');\n",
              "        buttonEl.style.display =\n",
              "          google.colab.kernel.accessAllowed ? 'block' : 'none';\n",
              "\n",
              "        async function convertToInteractive(key) {\n",
              "          const element = document.querySelector('#df-460d2bf4-17fb-4874-9ce4-d8d09f41008a');\n",
              "          const dataTable =\n",
              "            await google.colab.kernel.invokeFunction('convertToInteractive',\n",
              "                                                     [key], {});\n",
              "          if (!dataTable) return;\n",
              "\n",
              "          const docLinkHtml = 'Like what you see? Visit the ' +\n",
              "            '<a target=\"_blank\" href=https://colab.research.google.com/notebooks/data_table.ipynb>data table notebook</a>'\n",
              "            + ' to learn more about interactive tables.';\n",
              "          element.innerHTML = '';\n",
              "          dataTable['output_type'] = 'display_data';\n",
              "          await google.colab.output.renderOutput(dataTable, element);\n",
              "          const docLink = document.createElement('div');\n",
              "          docLink.innerHTML = docLinkHtml;\n",
              "          element.appendChild(docLink);\n",
              "        }\n",
              "      </script>\n",
              "    </div>\n",
              "  </div>\n",
              "  "
            ],
            "text/plain": [
              "  contador ORIGEM CODESTAB CODMUNNASC  ... CODPAISRES TPROBSON PARIDADE KOTELCHUCK\n",
              "0        1      1  2415631     230440  ...        NaN       05        1          9\n",
              "1        2      1  2005050     270030  ...        NaN       03        1          3\n",
              "2        3      1  2005050     270030  ...        NaN       11        0          5\n",
              "3        4      1  2005026     270030  ...        NaN       05        1          2\n",
              "4        5      1  2722429     270400  ...        NaN       03        1          2\n",
              "\n",
              "[5 rows x 61 columns]"
            ]
          },
          "metadata": {},
          "execution_count": 2
        }
      ]
    },
    {
      "cell_type": "code",
      "source": [
        "# transformar em dados quantitativos contínuos - medições\n",
        "sinasc['PESO'] = pd.to_numeric(sinasc['PESO'])\n",
        "sinasc['IDADEMAE'] = pd.to_numeric(sinasc['IDADEMAE'])\n",
        "sinasc['IDADEPAI'] = pd.to_numeric(sinasc['IDADEPAI'])\n",
        "sinasc['APGAR1'] = pd.to_numeric(sinasc['APGAR1'])\n",
        "sinasc['APGAR5'] = pd.to_numeric(sinasc['APGAR5'])"
      ],
      "metadata": {
        "id": "-XV1SnEeEPsJ"
      },
      "execution_count": 3,
      "outputs": []
    },
    {
      "cell_type": "code",
      "source": [
        "# transformar em dados quantitativos discretos - contagens\n",
        "sinasc['QTDFILVIVO'] = pd.to_numeric(sinasc['QTDFILVIVO']).astype(pd.Int64Dtype())\n",
        "sinasc['QTDFILMORT'] = pd.to_numeric(sinasc['QTDFILMORT']).astype(pd.Int64Dtype())\n",
        "sinasc['SEMAGESTAC'] = pd.to_numeric(sinasc['SEMAGESTAC']).astype(pd.Int64Dtype())\n",
        "sinasc['CONSPRENAT'] = pd.to_numeric(sinasc['CONSPRENAT']).astype(pd.Int64Dtype())\n",
        "sinasc['SERIESCMAE'] = pd.to_numeric(sinasc['SERIESCMAE']).astype(pd.Int64Dtype())\n",
        "sinasc['QTDPARTCES'] = pd.to_numeric(sinasc['QTDPARTCES']).astype(pd.Int64Dtype())\n",
        "sinasc['QTDPARTNOR'] = pd.to_numeric(sinasc['QTDPARTNOR']).astype(pd.Int64Dtype())\n",
        "sinasc['QTDGESTANT'] = pd.to_numeric(sinasc['QTDGESTANT']).astype(pd.Int64Dtype())"
      ],
      "metadata": {
        "id": "K_w4hgRsERNR"
      },
      "execution_count": 4,
      "outputs": []
    },
    {
      "cell_type": "code",
      "source": [
        "#Fazer o boxplot para idade da mãe e encontrar quais os registro de outliers\n",
        "sinasc.boxplot(column=['IDADEMAE'], figsize=(10,5))"
      ],
      "metadata": {
        "colab": {
          "base_uri": "https://localhost:8080/",
          "height": 337
        },
        "id": "mUu5WetcEi8x",
        "outputId": "aefe736c-ded2-47ad-afaa-32058f187fea"
      },
      "execution_count": 27,
      "outputs": [
        {
          "output_type": "execute_result",
          "data": {
            "text/plain": [
              "<matplotlib.axes._subplots.AxesSubplot at 0x7f67087e8110>"
            ]
          },
          "metadata": {},
          "execution_count": 27
        },
        {
          "output_type": "display_data",
          "data": {
            "image/png": "[encoded data removed]",
            "text/plain": [
              "<Figure size 720x360 with 1 Axes>"
            ]
          },
          "metadata": {
            "needs_background": "light"
          }
        }
      ]
    },
    {
      "cell_type": "code",
      "source": [
        "#identificação dos outliers IDADEMAE\n",
        "# Q1 e Q3\n",
        "q = sinasc.PESO.quantile([0.25, 0.75]).values\n",
        "limit_inf = q[0] - (q[1] - q[0]) * 1.5\n",
        "limit_sup = q[1] + (q[1] - q[0]) * 1.5\n",
        "\n",
        "sinasc_outliers = sinasc[(sinasc.PESO < limit_inf) | (sinasc.PESO > limit_sup)]\n",
        "sinasc_outliers[['IDADEMAE']]"
      ],
      "metadata": {
        "colab": {
          "base_uri": "https://localhost:8080/",
          "height": 424
        },
        "id": "Bf6XZTgSFhdp",
        "outputId": "afe3025e-7ddb-470a-f6e7-972e2f10bf13"
      },
      "execution_count": 7,
      "outputs": [
        {
          "output_type": "execute_result",
          "data": {
            "text/html": [
              "\n",
              "  <div id=\"df-e69947e2-5cac-4af9-bc52-bfbac762a6b5\">\n",
              "    <div class=\"colab-df-container\">\n",
              "      <div>\n",
              "<style scoped>\n",
              "    .dataframe tbody tr th:only-of-type {\n",
              "        vertical-align: middle;\n",
              "    }\n",
              "\n",
              "    .dataframe tbody tr th {\n",
              "        vertical-align: top;\n",
              "    }\n",
              "\n",
              "    .dataframe thead th {\n",
              "        text-align: right;\n",
              "    }\n",
              "</style>\n",
              "<table border=\"1\" class=\"dataframe\">\n",
              "  <thead>\n",
              "    <tr style=\"text-align: right;\">\n",
              "      <th></th>\n",
              "      <th>IDADEMAE</th>\n",
              "    </tr>\n",
              "  </thead>\n",
              "  <tbody>\n",
              "    <tr>\n",
              "      <th>30</th>\n",
              "      <td>34</td>\n",
              "    </tr>\n",
              "    <tr>\n",
              "      <th>76</th>\n",
              "      <td>29</td>\n",
              "    </tr>\n",
              "    <tr>\n",
              "      <th>119</th>\n",
              "      <td>18</td>\n",
              "    </tr>\n",
              "    <tr>\n",
              "      <th>146</th>\n",
              "      <td>32</td>\n",
              "    </tr>\n",
              "    <tr>\n",
              "      <th>147</th>\n",
              "      <td>37</td>\n",
              "    </tr>\n",
              "    <tr>\n",
              "      <th>...</th>\n",
              "      <td>...</td>\n",
              "    </tr>\n",
              "    <tr>\n",
              "      <th>33783</th>\n",
              "      <td>21</td>\n",
              "    </tr>\n",
              "    <tr>\n",
              "      <th>33817</th>\n",
              "      <td>22</td>\n",
              "    </tr>\n",
              "    <tr>\n",
              "      <th>33826</th>\n",
              "      <td>42</td>\n",
              "    </tr>\n",
              "    <tr>\n",
              "      <th>33833</th>\n",
              "      <td>22</td>\n",
              "    </tr>\n",
              "    <tr>\n",
              "      <th>33855</th>\n",
              "      <td>35</td>\n",
              "    </tr>\n",
              "  </tbody>\n",
              "</table>\n",
              "<p>1163 rows × 1 columns</p>\n",
              "</div>\n",
              "      <button class=\"colab-df-convert\" onclick=\"convertToInteractive('df-e69947e2-5cac-4af9-bc52-bfbac762a6b5')\"\n",
              "              title=\"Convert this dataframe to an interactive table.\"\n",
              "              style=\"display:none;\">\n",
              "        \n",
              "  <svg xmlns=\"http://www.w3.org/2000/svg\" height=\"24px\"viewBox=\"0 0 24 24\"\n",
              "       width=\"24px\">\n",
              "    <path d=\"M0 0h24v24H0V0z\" fill=\"none\"/>\n",
              "    <path d=\"M18.56 5.44l.94 2.06.94-2.06 2.06-.94-2.06-.94-.94-2.06-.94 2.06-2.06.94zm-11 1L8.5 8.5l.94-2.06 2.06-.94-2.06-.94L8.5 2.5l-.94 2.06-2.06.94zm10 10l.94 2.06.94-2.06 2.06-.94-2.06-.94-.94-2.06-.94 2.06-2.06.94z\"/><path d=\"M17.41 7.96l-1.37-1.37c-.4-.4-.92-.59-1.43-.59-.52 0-1.04.2-1.43.59L10.3 9.45l-7.72 7.72c-.78.78-.78 2.05 0 2.83L4 21.41c.39.39.9.59 1.41.59.51 0 1.02-.2 1.41-.59l7.78-7.78 2.81-2.81c.8-.78.8-2.07 0-2.86zM5.41 20L4 18.59l7.72-7.72 1.47 1.35L5.41 20z\"/>\n",
              "  </svg>\n",
              "      </button>\n",
              "      \n",
              "  <style>\n",
              "    .colab-df-container {\n",
              "      display:flex;\n",
              "      flex-wrap:wrap;\n",
              "      gap: 12px;\n",
              "    }\n",
              "\n",
              "    .colab-df-convert {\n",
              "      background-color: #E8F0FE;\n",
              "      border: none;\n",
              "      border-radius: 50%;\n",
              "      cursor: pointer;\n",
              "      display: none;\n",
              "      fill: #1967D2;\n",
              "      height: 32px;\n",
              "      padding: 0 0 0 0;\n",
              "      width: 32px;\n",
              "    }\n",
              "\n",
              "    .colab-df-convert:hover {\n",
              "      background-color: #E2EBFA;\n",
              "      box-shadow: 0px 1px 2px rgba(60, 64, 67, 0.3), 0px 1px 3px 1px rgba(60, 64, 67, 0.15);\n",
              "      fill: #174EA6;\n",
              "    }\n",
              "\n",
              "    [theme=dark] .colab-df-convert {\n",
              "      background-color: #3B4455;\n",
              "      fill: #D2E3FC;\n",
              "    }\n",
              "\n",
              "    [theme=dark] .colab-df-convert:hover {\n",
              "      background-color: #434B5C;\n",
              "      box-shadow: 0px 1px 3px 1px rgba(0, 0, 0, 0.15);\n",
              "      filter: drop-shadow(0px 1px 2px rgba(0, 0, 0, 0.3));\n",
              "      fill: #FFFFFF;\n",
              "    }\n",
              "  </style>\n",
              "\n",
              "      <script>\n",
              "        const buttonEl =\n",
              "          document.querySelector('#df-e69947e2-5cac-4af9-bc52-bfbac762a6b5 button.colab-df-convert');\n",
              "        buttonEl.style.display =\n",
              "          google.colab.kernel.accessAllowed ? 'block' : 'none';\n",
              "\n",
              "        async function convertToInteractive(key) {\n",
              "          const element = document.querySelector('#df-e69947e2-5cac-4af9-bc52-bfbac762a6b5');\n",
              "          const dataTable =\n",
              "            await google.colab.kernel.invokeFunction('convertToInteractive',\n",
              "                                                     [key], {});\n",
              "          if (!dataTable) return;\n",
              "\n",
              "          const docLinkHtml = 'Like what you see? Visit the ' +\n",
              "            '<a target=\"_blank\" href=https://colab.research.google.com/notebooks/data_table.ipynb>data table notebook</a>'\n",
              "            + ' to learn more about interactive tables.';\n",
              "          element.innerHTML = '';\n",
              "          dataTable['output_type'] = 'display_data';\n",
              "          await google.colab.output.renderOutput(dataTable, element);\n",
              "          const docLink = document.createElement('div');\n",
              "          docLink.innerHTML = docLinkHtml;\n",
              "          element.appendChild(docLink);\n",
              "        }\n",
              "      </script>\n",
              "    </div>\n",
              "  </div>\n",
              "  "
            ],
            "text/plain": [
              "       IDADEMAE\n",
              "30           34\n",
              "76           29\n",
              "119          18\n",
              "146          32\n",
              "147          37\n",
              "...         ...\n",
              "33783        21\n",
              "33817        22\n",
              "33826        42\n",
              "33833        22\n",
              "33855        35\n",
              "\n",
              "[1163 rows x 1 columns]"
            ]
          },
          "metadata": {},
          "execution_count": 7
        }
      ]
    },
    {
      "cell_type": "code",
      "source": [
        "#Fazer o boxplot para o peso da criança e encontrar quais os registro de outliers.\n",
        "sinasc.boxplot(column=['PESO'], figsize=(10,8))"
      ],
      "metadata": {
        "colab": {
          "base_uri": "https://localhost:8080/",
          "height": 503
        },
        "id": "lQonfUozFJxJ",
        "outputId": "ce10da80-42b1-470d-c323-a78486dd8b66"
      },
      "execution_count": 33,
      "outputs": [
        {
          "output_type": "execute_result",
          "data": {
            "text/plain": [
              "<matplotlib.axes._subplots.AxesSubplot at 0x7f670857c290>"
            ]
          },
          "metadata": {},
          "execution_count": 33
        },
        {
          "output_type": "display_data",
          "data": {
            "image/png": "[encoded data removed]",
            "text/plain": [
              "<Figure size 720x576 with 1 Axes>"
            ]
          },
          "metadata": {
            "needs_background": "light"
          }
        }
      ]
    },
    {
      "cell_type": "code",
      "source": [
        "#identificação dos outliers PESO\n",
        "\n",
        "q = sinasc.PESO.quantile([0.50, 0.25]).values\n",
        "limit_inf = q[0] - (q[1] - q[0]) * 1.5\n",
        "limit_sup = q[1] + (q[1] - q[0]) * 1.5\n",
        "\n",
        "sinasc_outliers = sinasc[(sinasc.PESO < limit_inf) | (sinasc.PESO > limit_sup)]\n",
        "sinasc_outliers[['PESO']]"
      ],
      "metadata": {
        "colab": {
          "base_uri": "https://localhost:8080/",
          "height": 424
        },
        "id": "zb3cgVq4FqfZ",
        "outputId": "1ba037b3-ecfc-41ab-bd94-496d9d6f9b34"
      },
      "execution_count": 8,
      "outputs": [
        {
          "output_type": "execute_result",
          "data": {
            "text/html": [
              "\n",
              "  <div id=\"df-dcab5a34-9b23-4379-8e05-c58982e9f53d\">\n",
              "    <div class=\"colab-df-container\">\n",
              "      <div>\n",
              "<style scoped>\n",
              "    .dataframe tbody tr th:only-of-type {\n",
              "        vertical-align: middle;\n",
              "    }\n",
              "\n",
              "    .dataframe tbody tr th {\n",
              "        vertical-align: top;\n",
              "    }\n",
              "\n",
              "    .dataframe thead th {\n",
              "        text-align: right;\n",
              "    }\n",
              "</style>\n",
              "<table border=\"1\" class=\"dataframe\">\n",
              "  <thead>\n",
              "    <tr style=\"text-align: right;\">\n",
              "      <th></th>\n",
              "      <th>PESO</th>\n",
              "    </tr>\n",
              "  </thead>\n",
              "  <tbody>\n",
              "    <tr>\n",
              "      <th>0</th>\n",
              "      <td>3556.0</td>\n",
              "    </tr>\n",
              "    <tr>\n",
              "      <th>1</th>\n",
              "      <td>2760.0</td>\n",
              "    </tr>\n",
              "    <tr>\n",
              "      <th>2</th>\n",
              "      <td>3010.0</td>\n",
              "    </tr>\n",
              "    <tr>\n",
              "      <th>3</th>\n",
              "      <td>3720.0</td>\n",
              "    </tr>\n",
              "    <tr>\n",
              "      <th>4</th>\n",
              "      <td>2900.0</td>\n",
              "    </tr>\n",
              "    <tr>\n",
              "      <th>...</th>\n",
              "      <td>...</td>\n",
              "    </tr>\n",
              "    <tr>\n",
              "      <th>33862</th>\n",
              "      <td>2735.0</td>\n",
              "    </tr>\n",
              "    <tr>\n",
              "      <th>33863</th>\n",
              "      <td>3230.0</td>\n",
              "    </tr>\n",
              "    <tr>\n",
              "      <th>33864</th>\n",
              "      <td>3640.0</td>\n",
              "    </tr>\n",
              "    <tr>\n",
              "      <th>33865</th>\n",
              "      <td>3115.0</td>\n",
              "    </tr>\n",
              "    <tr>\n",
              "      <th>33866</th>\n",
              "      <td>3100.0</td>\n",
              "    </tr>\n",
              "  </tbody>\n",
              "</table>\n",
              "<p>33856 rows × 1 columns</p>\n",
              "</div>\n",
              "      <button class=\"colab-df-convert\" onclick=\"convertToInteractive('df-dcab5a34-9b23-4379-8e05-c58982e9f53d')\"\n",
              "              title=\"Convert this dataframe to an interactive table.\"\n",
              "              style=\"display:none;\">\n",
              "        \n",
              "  <svg xmlns=\"http://www.w3.org/2000/svg\" height=\"24px\"viewBox=\"0 0 24 24\"\n",
              "       width=\"24px\">\n",
              "    <path d=\"M0 0h24v24H0V0z\" fill=\"none\"/>\n",
              "    <path d=\"M18.56 5.44l.94 2.06.94-2.06 2.06-.94-2.06-.94-.94-2.06-.94 2.06-2.06.94zm-11 1L8.5 8.5l.94-2.06 2.06-.94-2.06-.94L8.5 2.5l-.94 2.06-2.06.94zm10 10l.94 2.06.94-2.06 2.06-.94-2.06-.94-.94-2.06-.94 2.06-2.06.94z\"/><path d=\"M17.41 7.96l-1.37-1.37c-.4-.4-.92-.59-1.43-.59-.52 0-1.04.2-1.43.59L10.3 9.45l-7.72 7.72c-.78.78-.78 2.05 0 2.83L4 21.41c.39.39.9.59 1.41.59.51 0 1.02-.2 1.41-.59l7.78-7.78 2.81-2.81c.8-.78.8-2.07 0-2.86zM5.41 20L4 18.59l7.72-7.72 1.47 1.35L5.41 20z\"/>\n",
              "  </svg>\n",
              "      </button>\n",
              "      \n",
              "  <style>\n",
              "    .colab-df-container {\n",
              "      display:flex;\n",
              "      flex-wrap:wrap;\n",
              "      gap: 12px;\n",
              "    }\n",
              "\n",
              "    .colab-df-convert {\n",
              "      background-color: #E8F0FE;\n",
              "      border: none;\n",
              "      border-radius: 50%;\n",
              "      cursor: pointer;\n",
              "      display: none;\n",
              "      fill: #1967D2;\n",
              "      height: 32px;\n",
              "      padding: 0 0 0 0;\n",
              "      width: 32px;\n",
              "    }\n",
              "\n",
              "    .colab-df-convert:hover {\n",
              "      background-color: #E2EBFA;\n",
              "      box-shadow: 0px 1px 2px rgba(60, 64, 67, 0.3), 0px 1px 3px 1px rgba(60, 64, 67, 0.15);\n",
              "      fill: #174EA6;\n",
              "    }\n",
              "\n",
              "    [theme=dark] .colab-df-convert {\n",
              "      background-color: #3B4455;\n",
              "      fill: #D2E3FC;\n",
              "    }\n",
              "\n",
              "    [theme=dark] .colab-df-convert:hover {\n",
              "      background-color: #434B5C;\n",
              "      box-shadow: 0px 1px 3px 1px rgba(0, 0, 0, 0.15);\n",
              "      filter: drop-shadow(0px 1px 2px rgba(0, 0, 0, 0.3));\n",
              "      fill: #FFFFFF;\n",
              "    }\n",
              "  </style>\n",
              "\n",
              "      <script>\n",
              "        const buttonEl =\n",
              "          document.querySelector('#df-dcab5a34-9b23-4379-8e05-c58982e9f53d button.colab-df-convert');\n",
              "        buttonEl.style.display =\n",
              "          google.colab.kernel.accessAllowed ? 'block' : 'none';\n",
              "\n",
              "        async function convertToInteractive(key) {\n",
              "          const element = document.querySelector('#df-dcab5a34-9b23-4379-8e05-c58982e9f53d');\n",
              "          const dataTable =\n",
              "            await google.colab.kernel.invokeFunction('convertToInteractive',\n",
              "                                                     [key], {});\n",
              "          if (!dataTable) return;\n",
              "\n",
              "          const docLinkHtml = 'Like what you see? Visit the ' +\n",
              "            '<a target=\"_blank\" href=https://colab.research.google.com/notebooks/data_table.ipynb>data table notebook</a>'\n",
              "            + ' to learn more about interactive tables.';\n",
              "          element.innerHTML = '';\n",
              "          dataTable['output_type'] = 'display_data';\n",
              "          await google.colab.output.renderOutput(dataTable, element);\n",
              "          const docLink = document.createElement('div');\n",
              "          docLink.innerHTML = docLinkHtml;\n",
              "          element.appendChild(docLink);\n",
              "        }\n",
              "      </script>\n",
              "    </div>\n",
              "  </div>\n",
              "  "
            ],
            "text/plain": [
              "         PESO\n",
              "0      3556.0\n",
              "1      2760.0\n",
              "2      3010.0\n",
              "3      3720.0\n",
              "4      2900.0\n",
              "...       ...\n",
              "33862  2735.0\n",
              "33863  3230.0\n",
              "33864  3640.0\n",
              "33865  3115.0\n",
              "33866  3100.0\n",
              "\n",
              "[33856 rows x 1 columns]"
            ]
          },
          "metadata": {},
          "execution_count": 8
        }
      ]
    },
    {
      "cell_type": "code",
      "source": [
        "#Fazer o histograma da idade do pai\n",
        "graf_hist = sinasc.IDADEPAI.value_counts(sort=False)\n",
        "hist = sinasc.hist(\n",
        "    column='IDADEPAI', bins=sorted(graf_hist.keys()), grid=False, \n",
        "    color='purple', figsize=(16,8), rwidth=0.9, legend=True)\n",
        "\n",
        "hist[0][0].tick_params(colors='white')\n",
        "hist[0][0].xaxis.label.set_color('white')\n",
        "hist[0][0].yaxis.label.set_color('white')\n",
        "eixo = hist[0][0].set_xlabel('Idade')\n",
        "eixo = hist[0][0].set_ylabel('Fequência')\n",
        "eixo = hist[0][0].set_ylabel('Fequência')\n",
        "\n",
        "x_ticks = []\n",
        "for key, value in graf_hist.items():\n",
        "  x_ticks.append(key)\n",
        "  hist[0][0].text(key+0.5, value+5, int(value), color='purple', ha='center')\n",
        "h = hist[0][0].set_xticks(x_ticks)"
      ],
      "metadata": {
        "colab": {
          "base_uri": "https://localhost:8080/",
          "height": 489
        },
        "id": "gLt5VJeYF_VB",
        "outputId": "9aabc2ad-1254-4416-e372-5c41b75acb3c"
      },
      "execution_count": 53,
      "outputs": [
        {
          "output_type": "display_data",
          "data": {
            "image/png": "[encoded data removed]",
            "text/plain": [
              "<Figure size 1152x576 with 1 Axes>"
            ]
          },
          "metadata": {
            "needs_background": "dark"
          }
        }
      ]
    },
    {
      "cell_type": "code",
      "source": [
        "#Representar visualmente os diferentes valores de APGAR1 e APGAR5\n",
        "\n",
        "gestacao_apgar = sinasc[sinasc.GESTACAO == '1'][['APGAR1','APGAR5']]\n",
        "gestacao_apgar.plot(kind='bar', width=0.7, figsize=(16,8))"
      ],
      "metadata": {
        "colab": {
          "base_uri": "https://localhost:8080/",
          "height": 510
        },
        "id": "1uNZVAvqHQo7",
        "outputId": "e47b56ad-d60f-468c-db37-bf8c603ad859"
      },
      "execution_count": 19,
      "outputs": [
        {
          "output_type": "execute_result",
          "data": {
            "text/plain": [
              "<matplotlib.axes._subplots.AxesSubplot at 0x7f6708d51f10>"
            ]
          },
          "metadata": {},
          "execution_count": 19
        },
        {
          "output_type": "display_data",
          "data": {
            "image/png": "[encoded data removed]",
            "text/plain": [
              "<Figure size 1152x576 with 1 Axes>"
            ]
          },
          "metadata": {
            "needs_background": "light"
          }
        }
      ]
    },
    {
      "cell_type": "code",
      "source": [
        "# Mostrar a dispersão entre idade do pai e idade da mãe\n",
        "\n",
        "idades = sinasc[(sinasc.IDADEPAI.notna())][['IDADEMAE', 'IDADEPAI']]\n",
        "disp = idades.plot(kind='scatter',x='IDADEMAE', y='IDADEPAI', figsize=(16,8), color='green')\n"
      ],
      "metadata": {
        "colab": {
          "base_uri": "https://localhost:8080/",
          "height": 478
        },
        "id": "DuCZmhLXHrq7",
        "outputId": "83edf9ac-d922-45ff-f4e9-506444cfb489"
      },
      "execution_count": 22,
      "outputs": [
        {
          "output_type": "display_data",
          "data": {
            "image/png": "[encoded data removed]",
            "text/plain": [
              "<Figure size 1152x576 with 1 Axes>"
            ]
          },
          "metadata": {
            "needs_background": "light"
          }
        }
      ]
    },
    {
      "cell_type": "code",
      "source": [
        "#Mostrar visualmente a comparação entre idade da mãe e idade do pai para as mães solteiras com menos de 18 anos\n",
        "\n",
        "idades = sinasc[(sinasc.IDADEMAE < 18) & (sinasc.ESTCIVMAE== '1') & (sinasc.IDADEPAI.notna())][['IDADEMAE', 'IDADEPAI']]\n",
        "barras = idades.plot(kind='bar', width=0.7, figsize=(16,8))\n",
        "eixo = barras.set(xlabel='QTD', ylabel='Idade')"
      ],
      "metadata": {
        "colab": {
          "base_uri": "https://localhost:8080/",
          "height": 499
        },
        "id": "bmH_nQYAHtNp",
        "outputId": "4506fa36-51bd-4898-aabf-6ec1b8851575"
      },
      "execution_count": 37,
      "outputs": [
        {
          "output_type": "display_data",
          "data": {
            "image/png": "[encoded data removed]",
            "text/plain": [
              "<Figure size 1152x576 with 1 Axes>"
            ]
          },
          "metadata": {
            "needs_background": "light"
          }
        }
      ]
    },
    {
      "cell_type": "code",
      "source": [
        "Aracajú = sinasc[sinasc.CODMUNRES == '280030']\n",
        "outras = sinasc[sinasc.CODMUNRES != '280030']"
      ],
      "metadata": {
        "id": "EQYiZ4smK_a6"
      },
      "execution_count": 43,
      "outputs": []
    },
    {
      "cell_type": "code",
      "source": [
        "#Aracajú\n",
        "grupo = Aracajú.groupby(by='ESCMAE').count()\n",
        "pizza = grupo[['contador']].plot(y='contador',  kind='pie', autopct='%1.1f%%', figsize=(16,8))\n",
        "eixo = pizza.set(xlabel='', ylabel='')"
      ],
      "metadata": {
        "colab": {
          "base_uri": "https://localhost:8080/",
          "height": 466
        },
        "id": "S2Tby2VbLJzy",
        "outputId": "35200cc1-29c6-4327-c2a0-5d315637754f"
      },
      "execution_count": 49,
      "outputs": [
        {
          "output_type": "display_data",
          "data": {
            "image/png": "[encoded data removed]",
            "text/plain": [
              "<Figure size 1152x576 with 1 Axes>"
            ]
          },
          "metadata": {}
        }
      ]
    },
    {
      "cell_type": "code",
      "source": [
        "#Outras\n",
        "grupo = outras.groupby(by='ESCMAE').count()\n",
        "pizza = grupo[['contador']].plot(y='contador',  kind='pie', autopct='%1.1f%%', figsize=(16,8))\n",
        "eixo = pizza.set(xlabel='', ylabel='')"
      ],
      "metadata": {
        "colab": {
          "base_uri": "https://localhost:8080/",
          "height": 466
        },
        "id": "5tkSMQ9gLQS6",
        "outputId": "378cba47-325b-45f3-82b1-a0beea986bdd"
      },
      "execution_count": 45,
      "outputs": [
        {
          "output_type": "display_data",
          "data": {
            "image/png": "[encoded data removed]",
            "text/plain": [
              "<Figure size 1440x576 with 1 Axes>"
            ]
          },
          "metadata": {}
        }
      ]
    }
  ]
}