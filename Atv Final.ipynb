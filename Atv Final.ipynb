{
  "nbformat": 4,
  "nbformat_minor": 0,
  "metadata": {
    "colab": {
      "name": "Exercicio3.ipynb",
      "provenance": [],
      "collapsed_sections": [],
      "include_colab_link": true
    },
    "kernelspec": {
      "name": "python3",
      "display_name": "Python 3"
    },
    "language_info": {
      "name": "python"
    }
  },
  "cells": [
    {
      "cell_type": "markdown",
      "metadata": {
        "id": "view-in-github",
        "colab_type": "text"
      },
      "source": [
        "<a href=\"https://colab.research.google.com/github/Lili-Correa/Desafio1/blob/main/Atv%20Final.ipynb\" target=\"_parent\"><img src=\"https://colab.research.google.com/assets/colab-badge.svg\" alt=\"Open In Colab\"/></a>"
      ]
    },
    {
      "cell_type": "markdown",
      "metadata": {
        "id": "wmergrYCMmyK"
      },
      "source": [
        "#DUPLA: Aline Correa e Francilene Lilian Sanchez"
      ]
    },
    {
      "cell_type": "markdown",
      "metadata": {
        "id": "a-owBHidMbRj"
      },
      "source": [
        "** SUBIR OS ARQUIVOS NO MENU AO LADO PARA RODAR **"
      ]
    },
    {
      "cell_type": "code",
      "metadata": {
        "id": "n2ZMlaEz96WC"
      },
      "source": [
        " #INSTALAR PANDAS\n",
        "\n",
        "import pandas as pd\n",
        "\n"
      ],
      "execution_count": 1,
      "outputs": []
    },
    {
      "cell_type": "code",
      "metadata": {
        "colab": {
          "base_uri": "https://localhost:8080/",
          "height": 313
        },
        "id": "p4VV2C_cGhcU",
        "outputId": "77e0afed-6758-4e5f-f08c-9aa527e38ab6"
      },
      "source": [
        "import pandas as pd\n",
        "cadastro_df = pd.read_csv(r'cadastro - cadastro.csv', encoding = 'utf-8')\n",
        "display(cadastro_df.head())"
      ],
      "execution_count": 2,
      "outputs": [
        {
          "output_type": "display_data",
          "data": {
            "text/html": [
              "<div>\n",
              "<style scoped>\n",
              "    .dataframe tbody tr th:only-of-type {\n",
              "        vertical-align: middle;\n",
              "    }\n",
              "\n",
              "    .dataframe tbody tr th {\n",
              "        vertical-align: top;\n",
              "    }\n",
              "\n",
              "    .dataframe thead th {\n",
              "        text-align: right;\n",
              "    }\n",
              "</style>\n",
              "<table border=\"1\" class=\"dataframe\">\n",
              "  <thead>\n",
              "    <tr style=\"text-align: right;\">\n",
              "      <th></th>\n",
              "      <th>nome</th>\n",
              "      <th>sobrenome</th>\n",
              "      <th>ano_nascimento</th>\n",
              "      <th>sexo</th>\n",
              "      <th>cidade</th>\n",
              "      <th>profissão</th>\n",
              "      <th>experiencia profissional</th>\n",
              "      <th>estado_civil</th>\n",
              "      <th>filhos</th>\n",
              "      <th>lazer_final_de_semana</th>\n",
              "      <th>pratica_esporte</th>\n",
              "      <th>qual_esporte</th>\n",
              "      <th>quanta_vezes_na_semana_pratica_esporte</th>\n",
              "      <th>tem carro</th>\n",
              "      <th>escolaridade</th>\n",
              "    </tr>\n",
              "  </thead>\n",
              "  <tbody>\n",
              "    <tr>\n",
              "      <th>0</th>\n",
              "      <td>Dirceu</td>\n",
              "      <td>Manolo</td>\n",
              "      <td>1985</td>\n",
              "      <td>m</td>\n",
              "      <td>São Vicente</td>\n",
              "      <td>Cientista de Dados</td>\n",
              "      <td>4</td>\n",
              "      <td>Casado</td>\n",
              "      <td>1</td>\n",
              "      <td>estudar, academia, jogar video game,surfar</td>\n",
              "      <td>sim</td>\n",
              "      <td>academia</td>\n",
              "      <td>3.0</td>\n",
              "      <td>sim</td>\n",
              "      <td>Ensino Superior</td>\n",
              "    </tr>\n",
              "    <tr>\n",
              "      <th>1</th>\n",
              "      <td>Maria</td>\n",
              "      <td>Silva</td>\n",
              "      <td>1970</td>\n",
              "      <td>f</td>\n",
              "      <td>Santos</td>\n",
              "      <td>dona de casa</td>\n",
              "      <td>2</td>\n",
              "      <td>Casada</td>\n",
              "      <td>3</td>\n",
              "      <td>ver tv</td>\n",
              "      <td>não</td>\n",
              "      <td>-</td>\n",
              "      <td>0.0</td>\n",
              "      <td>não</td>\n",
              "      <td>Ensino Médio</td>\n",
              "    </tr>\n",
              "    <tr>\n",
              "      <th>2</th>\n",
              "      <td>Adalberto</td>\n",
              "      <td>Martins</td>\n",
              "      <td>1990</td>\n",
              "      <td>m</td>\n",
              "      <td>São Paulo</td>\n",
              "      <td>desempregado</td>\n",
              "      <td>0</td>\n",
              "      <td>Solteiro</td>\n",
              "      <td>1</td>\n",
              "      <td>jogar bola</td>\n",
              "      <td>sim</td>\n",
              "      <td>jogo bola</td>\n",
              "      <td>2.0</td>\n",
              "      <td>sim</td>\n",
              "      <td>Ensino Superior</td>\n",
              "    </tr>\n",
              "    <tr>\n",
              "      <th>3</th>\n",
              "      <td>João</td>\n",
              "      <td>Aparecido</td>\n",
              "      <td>1950</td>\n",
              "      <td>m</td>\n",
              "      <td>Monte Alto</td>\n",
              "      <td>Gerente de Projeto</td>\n",
              "      <td>3</td>\n",
              "      <td>Viuvo</td>\n",
              "      <td>2</td>\n",
              "      <td>Nã faço nada</td>\n",
              "      <td>NaN</td>\n",
              "      <td>-</td>\n",
              "      <td>NaN</td>\n",
              "      <td>sim</td>\n",
              "      <td>Ensino Superior</td>\n",
              "    </tr>\n",
              "    <tr>\n",
              "      <th>4</th>\n",
              "      <td>Marta</td>\n",
              "      <td>da Silva</td>\n",
              "      <td>1983</td>\n",
              "      <td>f</td>\n",
              "      <td>São Caetano</td>\n",
              "      <td>Auxiliar de Enfermagem</td>\n",
              "      <td>2</td>\n",
              "      <td>Solteira</td>\n",
              "      <td>0</td>\n",
              "      <td>caminhar</td>\n",
              "      <td>sim</td>\n",
              "      <td>crossfit</td>\n",
              "      <td>4.0</td>\n",
              "      <td>não</td>\n",
              "      <td>Ensimo Tecnico</td>\n",
              "    </tr>\n",
              "  </tbody>\n",
              "</table>\n",
              "</div>"
            ],
            "text/plain": [
              "        nome  sobrenome  ...  tem carro     escolaridade\n",
              "0     Dirceu     Manolo  ...        sim  Ensino Superior\n",
              "1      Maria      Silva  ...        não     Ensino Médio\n",
              "2  Adalberto    Martins  ...        sim  Ensino Superior\n",
              "3       João  Aparecido  ...        sim  Ensino Superior\n",
              "4      Marta   da Silva  ...        não   Ensimo Tecnico\n",
              "\n",
              "[5 rows x 15 columns]"
            ]
          },
          "metadata": {}
        }
      ]
    },
    {
      "cell_type": "code",
      "metadata": {
        "colab": {
          "base_uri": "https://localhost:8080/",
          "height": 206
        },
        "id": "S6TzheOZGltk",
        "outputId": "b197d51d-d464-4de0-abbc-0da6c2ace48c"
      },
      "source": [
        "import pandas as pd\n",
        "precos_df = pd.read_csv(r'preco da gasolina - preco da gasolina.csv', encoding = 'utf-8')\n",
        "display(precos_df.head())"
      ],
      "execution_count": 3,
      "outputs": [
        {
          "output_type": "display_data",
          "data": {
            "text/html": [
              "<div>\n",
              "<style scoped>\n",
              "    .dataframe tbody tr th:only-of-type {\n",
              "        vertical-align: middle;\n",
              "    }\n",
              "\n",
              "    .dataframe tbody tr th {\n",
              "        vertical-align: top;\n",
              "    }\n",
              "\n",
              "    .dataframe thead th {\n",
              "        text-align: right;\n",
              "    }\n",
              "</style>\n",
              "<table border=\"1\" class=\"dataframe\">\n",
              "  <thead>\n",
              "    <tr style=\"text-align: right;\">\n",
              "      <th></th>\n",
              "      <th>cidade</th>\n",
              "      <th>preço</th>\n",
              "    </tr>\n",
              "  </thead>\n",
              "  <tbody>\n",
              "    <tr>\n",
              "      <th>0</th>\n",
              "      <td>São Vicente,\"3,45\"</td>\n",
              "      <td>NaN</td>\n",
              "    </tr>\n",
              "    <tr>\n",
              "      <th>1</th>\n",
              "      <td>Santos,\"3,33\"</td>\n",
              "      <td>NaN</td>\n",
              "    </tr>\n",
              "    <tr>\n",
              "      <th>2</th>\n",
              "      <td>São Paulo,\"3,23\"</td>\n",
              "      <td>NaN</td>\n",
              "    </tr>\n",
              "    <tr>\n",
              "      <th>3</th>\n",
              "      <td>Monte Alto</td>\n",
              "      <td>4.0</td>\n",
              "    </tr>\n",
              "    <tr>\n",
              "      <th>4</th>\n",
              "      <td>São Caetano,\"3,56\"</td>\n",
              "      <td>NaN</td>\n",
              "    </tr>\n",
              "  </tbody>\n",
              "</table>\n",
              "</div>"
            ],
            "text/plain": [
              "               cidade  preço\n",
              "0  São Vicente,\"3,45\"    NaN\n",
              "1       Santos,\"3,33\"    NaN\n",
              "2    São Paulo,\"3,23\"    NaN\n",
              "3          Monte Alto    4.0\n",
              "4  São Caetano,\"3,56\"    NaN"
            ]
          },
          "metadata": {}
        }
      ]
    },
    {
      "cell_type": "code",
      "metadata": {
        "colab": {
          "base_uri": "https://localhost:8080/",
          "height": 206
        },
        "id": "AhLvtNCHGm_c",
        "outputId": "b22c40a2-dab6-4c0f-f1a0-df35e34f2d5c"
      },
      "source": [
        "import pandas as pd\n",
        "salario_df = pd.read_csv(r'salario_profissoes - salario_profissoes.csv', encoding = 'utf-8')\n",
        "display(salario_df.head())"
      ],
      "execution_count": 4,
      "outputs": [
        {
          "output_type": "display_data",
          "data": {
            "text/html": [
              "<div>\n",
              "<style scoped>\n",
              "    .dataframe tbody tr th:only-of-type {\n",
              "        vertical-align: middle;\n",
              "    }\n",
              "\n",
              "    .dataframe tbody tr th {\n",
              "        vertical-align: top;\n",
              "    }\n",
              "\n",
              "    .dataframe thead th {\n",
              "        text-align: right;\n",
              "    }\n",
              "</style>\n",
              "<table border=\"1\" class=\"dataframe\">\n",
              "  <thead>\n",
              "    <tr style=\"text-align: right;\">\n",
              "      <th></th>\n",
              "      <th>Profissões</th>\n",
              "      <th>salario até 3 anos</th>\n",
              "      <th>salaior +3 anos</th>\n",
              "    </tr>\n",
              "  </thead>\n",
              "  <tbody>\n",
              "    <tr>\n",
              "      <th>0</th>\n",
              "      <td>Cientista de Dados</td>\n",
              "      <td>10000</td>\n",
              "      <td>14000</td>\n",
              "    </tr>\n",
              "    <tr>\n",
              "      <th>1</th>\n",
              "      <td>dona de casa</td>\n",
              "      <td>1200</td>\n",
              "      <td>1200</td>\n",
              "    </tr>\n",
              "    <tr>\n",
              "      <th>2</th>\n",
              "      <td>desempregado</td>\n",
              "      <td>0</td>\n",
              "      <td>0</td>\n",
              "    </tr>\n",
              "    <tr>\n",
              "      <th>3</th>\n",
              "      <td>Gerente de Projeto</td>\n",
              "      <td>5000</td>\n",
              "      <td>10000</td>\n",
              "    </tr>\n",
              "    <tr>\n",
              "      <th>4</th>\n",
              "      <td>Auxiliar de Enfermagem</td>\n",
              "      <td>1500</td>\n",
              "      <td>4000</td>\n",
              "    </tr>\n",
              "  </tbody>\n",
              "</table>\n",
              "</div>"
            ],
            "text/plain": [
              "               Profissões  salario até 3 anos  salaior +3 anos\n",
              "0      Cientista de Dados               10000            14000\n",
              "1            dona de casa                1200             1200\n",
              "2            desempregado                   0                0\n",
              "3      Gerente de Projeto                5000            10000\n",
              "4  Auxiliar de Enfermagem                1500             4000"
            ]
          },
          "metadata": {}
        }
      ]
    },
    {
      "cell_type": "code",
      "metadata": {
        "colab": {
          "base_uri": "https://localhost:8080/",
          "height": 476
        },
        "id": "jacyCrTUVB1v",
        "outputId": "af4eef0e-99ac-4477-e603-537ee8d790ae"
      },
      "source": [
        "cadastro_df[cadastro_df['ano_nascimento'] < 1985]"
      ],
      "execution_count": 5,
      "outputs": [
        {
          "output_type": "execute_result",
          "data": {
            "text/html": [
              "<div>\n",
              "<style scoped>\n",
              "    .dataframe tbody tr th:only-of-type {\n",
              "        vertical-align: middle;\n",
              "    }\n",
              "\n",
              "    .dataframe tbody tr th {\n",
              "        vertical-align: top;\n",
              "    }\n",
              "\n",
              "    .dataframe thead th {\n",
              "        text-align: right;\n",
              "    }\n",
              "</style>\n",
              "<table border=\"1\" class=\"dataframe\">\n",
              "  <thead>\n",
              "    <tr style=\"text-align: right;\">\n",
              "      <th></th>\n",
              "      <th>nome</th>\n",
              "      <th>sobrenome</th>\n",
              "      <th>ano_nascimento</th>\n",
              "      <th>sexo</th>\n",
              "      <th>cidade</th>\n",
              "      <th>profissão</th>\n",
              "      <th>experiencia profissional</th>\n",
              "      <th>estado_civil</th>\n",
              "      <th>filhos</th>\n",
              "      <th>lazer_final_de_semana</th>\n",
              "      <th>pratica_esporte</th>\n",
              "      <th>qual_esporte</th>\n",
              "      <th>quanta_vezes_na_semana_pratica_esporte</th>\n",
              "      <th>tem carro</th>\n",
              "      <th>escolaridade</th>\n",
              "    </tr>\n",
              "  </thead>\n",
              "  <tbody>\n",
              "    <tr>\n",
              "      <th>1</th>\n",
              "      <td>Maria</td>\n",
              "      <td>Silva</td>\n",
              "      <td>1970</td>\n",
              "      <td>f</td>\n",
              "      <td>Santos</td>\n",
              "      <td>dona de casa</td>\n",
              "      <td>2</td>\n",
              "      <td>Casada</td>\n",
              "      <td>3</td>\n",
              "      <td>ver tv</td>\n",
              "      <td>não</td>\n",
              "      <td>-</td>\n",
              "      <td>0.0</td>\n",
              "      <td>não</td>\n",
              "      <td>Ensino Médio</td>\n",
              "    </tr>\n",
              "    <tr>\n",
              "      <th>3</th>\n",
              "      <td>João</td>\n",
              "      <td>Aparecido</td>\n",
              "      <td>1950</td>\n",
              "      <td>m</td>\n",
              "      <td>Monte Alto</td>\n",
              "      <td>Gerente de Projeto</td>\n",
              "      <td>3</td>\n",
              "      <td>Viuvo</td>\n",
              "      <td>2</td>\n",
              "      <td>Nã faço nada</td>\n",
              "      <td>NaN</td>\n",
              "      <td>-</td>\n",
              "      <td>NaN</td>\n",
              "      <td>sim</td>\n",
              "      <td>Ensino Superior</td>\n",
              "    </tr>\n",
              "    <tr>\n",
              "      <th>4</th>\n",
              "      <td>Marta</td>\n",
              "      <td>da Silva</td>\n",
              "      <td>1983</td>\n",
              "      <td>f</td>\n",
              "      <td>São Caetano</td>\n",
              "      <td>Auxiliar de Enfermagem</td>\n",
              "      <td>2</td>\n",
              "      <td>Solteira</td>\n",
              "      <td>0</td>\n",
              "      <td>caminhar</td>\n",
              "      <td>sim</td>\n",
              "      <td>crossfit</td>\n",
              "      <td>4.0</td>\n",
              "      <td>não</td>\n",
              "      <td>Ensimo Tecnico</td>\n",
              "    </tr>\n",
              "    <tr>\n",
              "      <th>9</th>\n",
              "      <td>Mirtes</td>\n",
              "      <td>NaN</td>\n",
              "      <td>1976</td>\n",
              "      <td>f</td>\n",
              "      <td>Vitoria</td>\n",
              "      <td>Médica</td>\n",
              "      <td>5</td>\n",
              "      <td>Casada</td>\n",
              "      <td>2</td>\n",
              "      <td>leitura e ficar com os filhos</td>\n",
              "      <td>sim</td>\n",
              "      <td>crossfit</td>\n",
              "      <td>3.0</td>\n",
              "      <td>sim</td>\n",
              "      <td>Ensino Superior</td>\n",
              "    </tr>\n",
              "    <tr>\n",
              "      <th>12</th>\n",
              "      <td>Dirce</td>\n",
              "      <td>Nogueira</td>\n",
              "      <td>1967</td>\n",
              "      <td>f</td>\n",
              "      <td>São Paulo</td>\n",
              "      <td>Autonoma</td>\n",
              "      <td>9</td>\n",
              "      <td>Casada</td>\n",
              "      <td>5</td>\n",
              "      <td>fico com meus filhos, durante a semana não ten...</td>\n",
              "      <td>não</td>\n",
              "      <td>-</td>\n",
              "      <td>0.0</td>\n",
              "      <td>sim</td>\n",
              "      <td>Ensino Superior</td>\n",
              "    </tr>\n",
              "    <tr>\n",
              "      <th>13</th>\n",
              "      <td>Dirceu</td>\n",
              "      <td>Nogueira</td>\n",
              "      <td>1966</td>\n",
              "      <td>m</td>\n",
              "      <td>São Paulo</td>\n",
              "      <td>Caminhoneiro</td>\n",
              "      <td>2</td>\n",
              "      <td>Casado</td>\n",
              "      <td>2</td>\n",
              "      <td>churrasco</td>\n",
              "      <td>não</td>\n",
              "      <td>-</td>\n",
              "      <td>0.0</td>\n",
              "      <td>sim</td>\n",
              "      <td>Ensino Médio</td>\n",
              "    </tr>\n",
              "    <tr>\n",
              "      <th>21</th>\n",
              "      <td>Patricia</td>\n",
              "      <td>Alburquerque</td>\n",
              "      <td>1982</td>\n",
              "      <td>f</td>\n",
              "      <td>Santa Catarina</td>\n",
              "      <td>Professora</td>\n",
              "      <td>5</td>\n",
              "      <td>Casada</td>\n",
              "      <td>2</td>\n",
              "      <td>caminhar, ficar com os filhos</td>\n",
              "      <td>sim</td>\n",
              "      <td>zumba</td>\n",
              "      <td>2.0</td>\n",
              "      <td>sim</td>\n",
              "      <td>ensino superior</td>\n",
              "    </tr>\n",
              "    <tr>\n",
              "      <th>27</th>\n",
              "      <td>Pedro</td>\n",
              "      <td>Miguel Junior</td>\n",
              "      <td>1984</td>\n",
              "      <td>m</td>\n",
              "      <td>São Paulo</td>\n",
              "      <td>Analista de Sistemas</td>\n",
              "      <td>7</td>\n",
              "      <td>Solteiro</td>\n",
              "      <td>0</td>\n",
              "      <td>barzinho com os amigos e descançar</td>\n",
              "      <td>sim</td>\n",
              "      <td>natação</td>\n",
              "      <td>2.0</td>\n",
              "      <td>sim</td>\n",
              "      <td>ensino superior</td>\n",
              "    </tr>\n",
              "  </tbody>\n",
              "</table>\n",
              "</div>"
            ],
            "text/plain": [
              "        nome      sobrenome  ...  tem carro     escolaridade\n",
              "1      Maria          Silva  ...        não     Ensino Médio\n",
              "3       João      Aparecido  ...        sim  Ensino Superior\n",
              "4      Marta       da Silva  ...        não   Ensimo Tecnico\n",
              "9     Mirtes            NaN  ...        sim  Ensino Superior\n",
              "12     Dirce       Nogueira  ...        sim  Ensino Superior\n",
              "13    Dirceu       Nogueira  ...        sim     Ensino Médio\n",
              "21  Patricia   Alburquerque  ...        sim  ensino superior\n",
              "27     Pedro  Miguel Junior  ...        sim  ensino superior\n",
              "\n",
              "[8 rows x 15 columns]"
            ]
          },
          "metadata": {},
          "execution_count": 5
        }
      ]
    },
    {
      "cell_type": "markdown",
      "metadata": {
        "id": "E2AZSHyTVBiA"
      },
      "source": [
        ""
      ]
    },
    {
      "cell_type": "code",
      "metadata": {
        "colab": {
          "base_uri": "https://localhost:8080/",
          "height": 87
        },
        "id": "9JCOaWfrVetv",
        "outputId": "6d238d25-d648-428f-ddbf-14345b646a0c"
      },
      "source": [
        "cadastro_df[(cadastro_df['sexo'] == 'f') & (cadastro_df['estado_civil'] == 'solteira')]"
      ],
      "execution_count": 6,
      "outputs": [
        {
          "output_type": "execute_result",
          "data": {
            "text/html": [
              "<div>\n",
              "<style scoped>\n",
              "    .dataframe tbody tr th:only-of-type {\n",
              "        vertical-align: middle;\n",
              "    }\n",
              "\n",
              "    .dataframe tbody tr th {\n",
              "        vertical-align: top;\n",
              "    }\n",
              "\n",
              "    .dataframe thead th {\n",
              "        text-align: right;\n",
              "    }\n",
              "</style>\n",
              "<table border=\"1\" class=\"dataframe\">\n",
              "  <thead>\n",
              "    <tr style=\"text-align: right;\">\n",
              "      <th></th>\n",
              "      <th>nome</th>\n",
              "      <th>sobrenome</th>\n",
              "      <th>ano_nascimento</th>\n",
              "      <th>sexo</th>\n",
              "      <th>cidade</th>\n",
              "      <th>profissão</th>\n",
              "      <th>experiencia profissional</th>\n",
              "      <th>estado_civil</th>\n",
              "      <th>filhos</th>\n",
              "      <th>lazer_final_de_semana</th>\n",
              "      <th>pratica_esporte</th>\n",
              "      <th>qual_esporte</th>\n",
              "      <th>quanta_vezes_na_semana_pratica_esporte</th>\n",
              "      <th>tem carro</th>\n",
              "      <th>escolaridade</th>\n",
              "    </tr>\n",
              "  </thead>\n",
              "  <tbody>\n",
              "  </tbody>\n",
              "</table>\n",
              "</div>"
            ],
            "text/plain": [
              "Empty DataFrame\n",
              "Columns: [nome, sobrenome, ano_nascimento, sexo, cidade, profissão, experiencia profissional, estado_civil, filhos, lazer_final_de_semana, pratica_esporte, qual_esporte, quanta_vezes_na_semana_pratica_esporte, tem carro, escolaridade]\n",
              "Index: []"
            ]
          },
          "metadata": {},
          "execution_count": 6
        }
      ]
    },
    {
      "cell_type": "code",
      "metadata": {
        "colab": {
          "base_uri": "https://localhost:8080/"
        },
        "id": "yeI1AzxkKrxP",
        "outputId": "9e2c6d79-5237-4cc1-9a6e-11de090ce91d"
      },
      "source": [
        "cadastro_df.shape"
      ],
      "execution_count": 7,
      "outputs": [
        {
          "output_type": "execute_result",
          "data": {
            "text/plain": [
              "(30, 15)"
            ]
          },
          "metadata": {},
          "execution_count": 7
        }
      ]
    },
    {
      "cell_type": "code",
      "metadata": {
        "id": "8R9deL6bK6Q8"
      },
      "source": [
        "rodados = [34,300,150,345,34,23,122,234,454,55,99,100,130,43,32,\n",
        "          31,320,152,35,14,223,122,244,424,51,91,10,13,4,2]"
      ],
      "execution_count": 8,
      "outputs": []
    },
    {
      "cell_type": "code",
      "metadata": {
        "id": "St0hK4yxLEAb"
      },
      "source": [
        "cadastro_df['Km'] = rodados"
      ],
      "execution_count": 9,
      "outputs": []
    },
    {
      "cell_type": "code",
      "metadata": {
        "colab": {
          "base_uri": "https://localhost:8080/"
        },
        "id": "NB0tSVVVLeoK",
        "outputId": "55a63ee5-e09c-4f80-fc28-cc3d3306676c"
      },
      "source": [
        "cadastro_df.dtypes"
      ],
      "execution_count": 10,
      "outputs": [
        {
          "output_type": "execute_result",
          "data": {
            "text/plain": [
              "nome                                       object\n",
              "sobrenome                                  object\n",
              "ano_nascimento                              int64\n",
              "sexo                                       object\n",
              "cidade                                     object\n",
              "profissão                                  object\n",
              "experiencia profissional                    int64\n",
              "estado_civil                               object\n",
              "filhos                                      int64\n",
              "lazer_final_de_semana                      object\n",
              "pratica_esporte                            object\n",
              "qual_esporte                               object\n",
              "quanta_vezes_na_semana_pratica_esporte    float64\n",
              "tem carro                                  object\n",
              "escolaridade                               object\n",
              "Km                                          int64\n",
              "dtype: object"
            ]
          },
          "metadata": {},
          "execution_count": 10
        }
      ]
    },
    {
      "cell_type": "code",
      "metadata": {
        "colab": {
          "base_uri": "https://localhost:8080/",
          "height": 645
        },
        "id": "rkJx4LOcOC-l",
        "outputId": "390690fd-3959-4616-b971-27fbd0d12896"
      },
      "source": [
        "precos_df.replace(\",\",\".\")"
      ],
      "execution_count": 22,
      "outputs": [
        {
          "output_type": "execute_result",
          "data": {
            "text/html": [
              "<div>\n",
              "<style scoped>\n",
              "    .dataframe tbody tr th:only-of-type {\n",
              "        vertical-align: middle;\n",
              "    }\n",
              "\n",
              "    .dataframe tbody tr th {\n",
              "        vertical-align: top;\n",
              "    }\n",
              "\n",
              "    .dataframe thead th {\n",
              "        text-align: right;\n",
              "    }\n",
              "</style>\n",
              "<table border=\"1\" class=\"dataframe\">\n",
              "  <thead>\n",
              "    <tr style=\"text-align: right;\">\n",
              "      <th></th>\n",
              "      <th>cidade</th>\n",
              "      <th>preço</th>\n",
              "    </tr>\n",
              "  </thead>\n",
              "  <tbody>\n",
              "    <tr>\n",
              "      <th>0</th>\n",
              "      <td>São Vicente,\"3,45\"</td>\n",
              "      <td>NaN</td>\n",
              "    </tr>\n",
              "    <tr>\n",
              "      <th>1</th>\n",
              "      <td>Santos,\"3,33\"</td>\n",
              "      <td>NaN</td>\n",
              "    </tr>\n",
              "    <tr>\n",
              "      <th>2</th>\n",
              "      <td>São Paulo,\"3,23\"</td>\n",
              "      <td>NaN</td>\n",
              "    </tr>\n",
              "    <tr>\n",
              "      <th>3</th>\n",
              "      <td>Monte Alto</td>\n",
              "      <td>4.0</td>\n",
              "    </tr>\n",
              "    <tr>\n",
              "      <th>4</th>\n",
              "      <td>São Caetano,\"3,56\"</td>\n",
              "      <td>NaN</td>\n",
              "    </tr>\n",
              "    <tr>\n",
              "      <th>5</th>\n",
              "      <td>Minas Gerais,\"2,9\"</td>\n",
              "      <td>NaN</td>\n",
              "    </tr>\n",
              "    <tr>\n",
              "      <th>6</th>\n",
              "      <td>Pernanbuco,\"3,1\"</td>\n",
              "      <td>NaN</td>\n",
              "    </tr>\n",
              "    <tr>\n",
              "      <th>7</th>\n",
              "      <td>Rio de Janeiro,\"3,78\"</td>\n",
              "      <td>NaN</td>\n",
              "    </tr>\n",
              "    <tr>\n",
              "      <th>8</th>\n",
              "      <td>Vitoria,\"2,99\"</td>\n",
              "      <td>NaN</td>\n",
              "    </tr>\n",
              "    <tr>\n",
              "      <th>9</th>\n",
              "      <td>Rio Grande do Sul</td>\n",
              "      <td>3.0</td>\n",
              "    </tr>\n",
              "    <tr>\n",
              "      <th>10</th>\n",
              "      <td>Aparecida,\"3,9\"</td>\n",
              "      <td>NaN</td>\n",
              "    </tr>\n",
              "    <tr>\n",
              "      <th>11</th>\n",
              "      <td>Goias,\"2,87\"</td>\n",
              "      <td>NaN</td>\n",
              "    </tr>\n",
              "    <tr>\n",
              "      <th>12</th>\n",
              "      <td>Pernanbuco,\"2,65\"</td>\n",
              "      <td>NaN</td>\n",
              "    </tr>\n",
              "    <tr>\n",
              "      <th>13</th>\n",
              "      <td>Bahia,\"2,99\"</td>\n",
              "      <td>NaN</td>\n",
              "    </tr>\n",
              "    <tr>\n",
              "      <th>14</th>\n",
              "      <td>Acre,\"3,9\"</td>\n",
              "      <td>NaN</td>\n",
              "    </tr>\n",
              "    <tr>\n",
              "      <th>15</th>\n",
              "      <td>Fortaleza,\"3,5\"</td>\n",
              "      <td>NaN</td>\n",
              "    </tr>\n",
              "    <tr>\n",
              "      <th>16</th>\n",
              "      <td>Santa Catarina,\"2,87\"</td>\n",
              "      <td>NaN</td>\n",
              "    </tr>\n",
              "    <tr>\n",
              "      <th>17</th>\n",
              "      <td>Santo Andre,\"3,32\"</td>\n",
              "      <td>NaN</td>\n",
              "    </tr>\n",
              "    <tr>\n",
              "      <th>18</th>\n",
              "      <td>Espirito Santo,\"3,45\"</td>\n",
              "      <td>NaN</td>\n",
              "    </tr>\n",
              "  </tbody>\n",
              "</table>\n",
              "</div>"
            ],
            "text/plain": [
              "                   cidade  preço\n",
              "0      São Vicente,\"3,45\"    NaN\n",
              "1           Santos,\"3,33\"    NaN\n",
              "2        São Paulo,\"3,23\"    NaN\n",
              "3              Monte Alto    4.0\n",
              "4      São Caetano,\"3,56\"    NaN\n",
              "5      Minas Gerais,\"2,9\"    NaN\n",
              "6        Pernanbuco,\"3,1\"    NaN\n",
              "7   Rio de Janeiro,\"3,78\"    NaN\n",
              "8          Vitoria,\"2,99\"    NaN\n",
              "9       Rio Grande do Sul    3.0\n",
              "10        Aparecida,\"3,9\"    NaN\n",
              "11           Goias,\"2,87\"    NaN\n",
              "12      Pernanbuco,\"2,65\"    NaN\n",
              "13           Bahia,\"2,99\"    NaN\n",
              "14             Acre,\"3,9\"    NaN\n",
              "15        Fortaleza,\"3,5\"    NaN\n",
              "16  Santa Catarina,\"2,87\"    NaN\n",
              "17     Santo Andre,\"3,32\"    NaN\n",
              "18  Espirito Santo,\"3,45\"    NaN"
            ]
          },
          "metadata": {},
          "execution_count": 22
        }
      ]
    },
    {
      "cell_type": "markdown",
      "metadata": {
        "id": "6Sak5EkMh8qv"
      },
      "source": [
        ""
      ]
    },
    {
      "cell_type": "code",
      "metadata": {
        "colab": {
          "base_uri": "https://localhost:8080/",
          "height": 216
        },
        "id": "h_ttTC0RLMb0",
        "outputId": "46d51b7d-3a0e-4c35-dadf-31bfa78ee416"
      },
      "source": [
        "cadastro_df.head(3)"
      ],
      "execution_count": 21,
      "outputs": [
        {
          "output_type": "execute_result",
          "data": {
            "text/html": [
              "<div>\n",
              "<style scoped>\n",
              "    .dataframe tbody tr th:only-of-type {\n",
              "        vertical-align: middle;\n",
              "    }\n",
              "\n",
              "    .dataframe tbody tr th {\n",
              "        vertical-align: top;\n",
              "    }\n",
              "\n",
              "    .dataframe thead th {\n",
              "        text-align: right;\n",
              "    }\n",
              "</style>\n",
              "<table border=\"1\" class=\"dataframe\">\n",
              "  <thead>\n",
              "    <tr style=\"text-align: right;\">\n",
              "      <th></th>\n",
              "      <th>nome</th>\n",
              "      <th>sobrenome</th>\n",
              "      <th>ano_nascimento</th>\n",
              "      <th>sexo</th>\n",
              "      <th>cidade</th>\n",
              "      <th>profissão</th>\n",
              "      <th>experiencia profissional</th>\n",
              "      <th>estado_civil</th>\n",
              "      <th>filhos</th>\n",
              "      <th>lazer_final_de_semana</th>\n",
              "      <th>pratica_esporte</th>\n",
              "      <th>qual_esporte</th>\n",
              "      <th>quanta_vezes_na_semana_pratica_esporte</th>\n",
              "      <th>tem carro</th>\n",
              "      <th>escolaridade</th>\n",
              "      <th>Km</th>\n",
              "    </tr>\n",
              "  </thead>\n",
              "  <tbody>\n",
              "    <tr>\n",
              "      <th>0</th>\n",
              "      <td>Dirceu</td>\n",
              "      <td>Manolo</td>\n",
              "      <td>1985</td>\n",
              "      <td>m</td>\n",
              "      <td>São Vicente</td>\n",
              "      <td>Cientista de Dados</td>\n",
              "      <td>4</td>\n",
              "      <td>Casado</td>\n",
              "      <td>1</td>\n",
              "      <td>estudar, academia, jogar video game,surfar</td>\n",
              "      <td>sim</td>\n",
              "      <td>academia</td>\n",
              "      <td>3.0</td>\n",
              "      <td>sim</td>\n",
              "      <td>Ensino Superior</td>\n",
              "      <td>34</td>\n",
              "    </tr>\n",
              "    <tr>\n",
              "      <th>1</th>\n",
              "      <td>Maria</td>\n",
              "      <td>Silva</td>\n",
              "      <td>1970</td>\n",
              "      <td>f</td>\n",
              "      <td>Santos</td>\n",
              "      <td>dona de casa</td>\n",
              "      <td>2</td>\n",
              "      <td>Casada</td>\n",
              "      <td>3</td>\n",
              "      <td>ver tv</td>\n",
              "      <td>não</td>\n",
              "      <td>-</td>\n",
              "      <td>0.0</td>\n",
              "      <td>não</td>\n",
              "      <td>Ensino Médio</td>\n",
              "      <td>300</td>\n",
              "    </tr>\n",
              "    <tr>\n",
              "      <th>2</th>\n",
              "      <td>Adalberto</td>\n",
              "      <td>Martins</td>\n",
              "      <td>1990</td>\n",
              "      <td>m</td>\n",
              "      <td>São Paulo</td>\n",
              "      <td>desempregado</td>\n",
              "      <td>0</td>\n",
              "      <td>Solteiro</td>\n",
              "      <td>1</td>\n",
              "      <td>jogar bola</td>\n",
              "      <td>sim</td>\n",
              "      <td>jogo bola</td>\n",
              "      <td>2.0</td>\n",
              "      <td>sim</td>\n",
              "      <td>Ensino Superior</td>\n",
              "      <td>150</td>\n",
              "    </tr>\n",
              "  </tbody>\n",
              "</table>\n",
              "</div>"
            ],
            "text/plain": [
              "        nome sobrenome  ano_nascimento  ... tem carro     escolaridade   Km\n",
              "0     Dirceu    Manolo            1985  ...       sim  Ensino Superior   34\n",
              "1      Maria     Silva            1970  ...       não     Ensino Médio  300\n",
              "2  Adalberto   Martins            1990  ...       sim  Ensino Superior  150\n",
              "\n",
              "[3 rows x 16 columns]"
            ]
          },
          "metadata": {},
          "execution_count": 21
        }
      ]
    },
    {
      "cell_type": "code",
      "metadata": {
        "colab": {
          "base_uri": "https://localhost:8080/",
          "height": 202
        },
        "id": "PjO0ifPwJ0sa",
        "outputId": "2869ebd5-e690-4717-89a4-e0197671b921"
      },
      "source": [
        "df3 = pd.merge(cadastro_df, precos_df, on='cidade')\n",
        "df3.head(3)"
      ],
      "execution_count": 23,
      "outputs": [
        {
          "output_type": "execute_result",
          "data": {
            "text/html": [
              "<div>\n",
              "<style scoped>\n",
              "    .dataframe tbody tr th:only-of-type {\n",
              "        vertical-align: middle;\n",
              "    }\n",
              "\n",
              "    .dataframe tbody tr th {\n",
              "        vertical-align: top;\n",
              "    }\n",
              "\n",
              "    .dataframe thead th {\n",
              "        text-align: right;\n",
              "    }\n",
              "</style>\n",
              "<table border=\"1\" class=\"dataframe\">\n",
              "  <thead>\n",
              "    <tr style=\"text-align: right;\">\n",
              "      <th></th>\n",
              "      <th>nome</th>\n",
              "      <th>sobrenome</th>\n",
              "      <th>ano_nascimento</th>\n",
              "      <th>sexo</th>\n",
              "      <th>cidade</th>\n",
              "      <th>profissão</th>\n",
              "      <th>experiencia profissional</th>\n",
              "      <th>estado_civil</th>\n",
              "      <th>filhos</th>\n",
              "      <th>lazer_final_de_semana</th>\n",
              "      <th>pratica_esporte</th>\n",
              "      <th>qual_esporte</th>\n",
              "      <th>quanta_vezes_na_semana_pratica_esporte</th>\n",
              "      <th>tem carro</th>\n",
              "      <th>escolaridade</th>\n",
              "      <th>Km</th>\n",
              "      <th>preço</th>\n",
              "    </tr>\n",
              "  </thead>\n",
              "  <tbody>\n",
              "    <tr>\n",
              "      <th>0</th>\n",
              "      <td>João</td>\n",
              "      <td>Aparecido</td>\n",
              "      <td>1950</td>\n",
              "      <td>m</td>\n",
              "      <td>Monte Alto</td>\n",
              "      <td>Gerente de Projeto</td>\n",
              "      <td>3</td>\n",
              "      <td>Viuvo</td>\n",
              "      <td>2</td>\n",
              "      <td>Nã faço nada</td>\n",
              "      <td>NaN</td>\n",
              "      <td>-</td>\n",
              "      <td>NaN</td>\n",
              "      <td>sim</td>\n",
              "      <td>Ensino Superior</td>\n",
              "      <td>345</td>\n",
              "      <td>4.0</td>\n",
              "    </tr>\n",
              "    <tr>\n",
              "      <th>1</th>\n",
              "      <td>Camila</td>\n",
              "      <td>Sousa</td>\n",
              "      <td>2003</td>\n",
              "      <td>f</td>\n",
              "      <td>Rio Grande do Sul</td>\n",
              "      <td>estudante</td>\n",
              "      <td>2</td>\n",
              "      <td>Solteira</td>\n",
              "      <td>1</td>\n",
              "      <td>leitura e ficar com minha filha</td>\n",
              "      <td>sim</td>\n",
              "      <td>natação</td>\n",
              "      <td>3.0</td>\n",
              "      <td>não</td>\n",
              "      <td>Ensino Superior</td>\n",
              "      <td>99</td>\n",
              "      <td>3.0</td>\n",
              "    </tr>\n",
              "  </tbody>\n",
              "</table>\n",
              "</div>"
            ],
            "text/plain": [
              "     nome  sobrenome  ano_nascimento  ...     escolaridade   Km preço\n",
              "0    João  Aparecido            1950  ...  Ensino Superior  345   4.0\n",
              "1  Camila      Sousa            2003  ...  Ensino Superior   99   3.0\n",
              "\n",
              "[2 rows x 17 columns]"
            ]
          },
          "metadata": {},
          "execution_count": 23
        }
      ]
    },
    {
      "cell_type": "code",
      "metadata": {
        "colab": {
          "base_uri": "https://localhost:8080/",
          "height": 1000
        },
        "id": "0yruZXdtSA28",
        "outputId": "bcc01dce-9147-4b7a-d639-35f516f97ea2"
      },
      "source": [
        "cadastro_df.fillna (99)"
      ],
      "execution_count": 14,
      "outputs": [
        {
          "output_type": "execute_result",
          "data": {
            "text/html": [
              "<div>\n",
              "<style scoped>\n",
              "    .dataframe tbody tr th:only-of-type {\n",
              "        vertical-align: middle;\n",
              "    }\n",
              "\n",
              "    .dataframe tbody tr th {\n",
              "        vertical-align: top;\n",
              "    }\n",
              "\n",
              "    .dataframe thead th {\n",
              "        text-align: right;\n",
              "    }\n",
              "</style>\n",
              "<table border=\"1\" class=\"dataframe\">\n",
              "  <thead>\n",
              "    <tr style=\"text-align: right;\">\n",
              "      <th></th>\n",
              "      <th>nome</th>\n",
              "      <th>sobrenome</th>\n",
              "      <th>ano_nascimento</th>\n",
              "      <th>sexo</th>\n",
              "      <th>cidade</th>\n",
              "      <th>profissão</th>\n",
              "      <th>experiencia profissional</th>\n",
              "      <th>estado_civil</th>\n",
              "      <th>filhos</th>\n",
              "      <th>lazer_final_de_semana</th>\n",
              "      <th>pratica_esporte</th>\n",
              "      <th>qual_esporte</th>\n",
              "      <th>quanta_vezes_na_semana_pratica_esporte</th>\n",
              "      <th>tem carro</th>\n",
              "      <th>escolaridade</th>\n",
              "      <th>Km</th>\n",
              "    </tr>\n",
              "  </thead>\n",
              "  <tbody>\n",
              "    <tr>\n",
              "      <th>0</th>\n",
              "      <td>Dirceu</td>\n",
              "      <td>Manolo</td>\n",
              "      <td>1985</td>\n",
              "      <td>m</td>\n",
              "      <td>São Vicente</td>\n",
              "      <td>Cientista de Dados</td>\n",
              "      <td>4</td>\n",
              "      <td>Casado</td>\n",
              "      <td>1</td>\n",
              "      <td>estudar, academia, jogar video game,surfar</td>\n",
              "      <td>sim</td>\n",
              "      <td>academia</td>\n",
              "      <td>3.0</td>\n",
              "      <td>sim</td>\n",
              "      <td>Ensino Superior</td>\n",
              "      <td>34</td>\n",
              "    </tr>\n",
              "    <tr>\n",
              "      <th>1</th>\n",
              "      <td>Maria</td>\n",
              "      <td>Silva</td>\n",
              "      <td>1970</td>\n",
              "      <td>f</td>\n",
              "      <td>Santos</td>\n",
              "      <td>dona de casa</td>\n",
              "      <td>2</td>\n",
              "      <td>Casada</td>\n",
              "      <td>3</td>\n",
              "      <td>ver tv</td>\n",
              "      <td>não</td>\n",
              "      <td>-</td>\n",
              "      <td>0.0</td>\n",
              "      <td>não</td>\n",
              "      <td>Ensino Médio</td>\n",
              "      <td>300</td>\n",
              "    </tr>\n",
              "    <tr>\n",
              "      <th>2</th>\n",
              "      <td>Adalberto</td>\n",
              "      <td>Martins</td>\n",
              "      <td>1990</td>\n",
              "      <td>m</td>\n",
              "      <td>São Paulo</td>\n",
              "      <td>desempregado</td>\n",
              "      <td>0</td>\n",
              "      <td>Solteiro</td>\n",
              "      <td>1</td>\n",
              "      <td>jogar bola</td>\n",
              "      <td>sim</td>\n",
              "      <td>jogo bola</td>\n",
              "      <td>2.0</td>\n",
              "      <td>sim</td>\n",
              "      <td>Ensino Superior</td>\n",
              "      <td>150</td>\n",
              "    </tr>\n",
              "    <tr>\n",
              "      <th>3</th>\n",
              "      <td>João</td>\n",
              "      <td>Aparecido</td>\n",
              "      <td>1950</td>\n",
              "      <td>m</td>\n",
              "      <td>Monte Alto</td>\n",
              "      <td>Gerente de Projeto</td>\n",
              "      <td>3</td>\n",
              "      <td>Viuvo</td>\n",
              "      <td>2</td>\n",
              "      <td>Nã faço nada</td>\n",
              "      <td>99</td>\n",
              "      <td>-</td>\n",
              "      <td>99.0</td>\n",
              "      <td>sim</td>\n",
              "      <td>Ensino Superior</td>\n",
              "      <td>345</td>\n",
              "    </tr>\n",
              "    <tr>\n",
              "      <th>4</th>\n",
              "      <td>Marta</td>\n",
              "      <td>da Silva</td>\n",
              "      <td>1983</td>\n",
              "      <td>f</td>\n",
              "      <td>São Caetano</td>\n",
              "      <td>Auxiliar de Enfermagem</td>\n",
              "      <td>2</td>\n",
              "      <td>Solteira</td>\n",
              "      <td>0</td>\n",
              "      <td>caminhar</td>\n",
              "      <td>sim</td>\n",
              "      <td>crossfit</td>\n",
              "      <td>4.0</td>\n",
              "      <td>não</td>\n",
              "      <td>Ensimo Tecnico</td>\n",
              "      <td>34</td>\n",
              "    </tr>\n",
              "    <tr>\n",
              "      <th>5</th>\n",
              "      <td>Vilma</td>\n",
              "      <td>Narsiza</td>\n",
              "      <td>1995</td>\n",
              "      <td>f</td>\n",
              "      <td>Minas Gerais</td>\n",
              "      <td>caixa de mercado</td>\n",
              "      <td>4</td>\n",
              "      <td>Solteira</td>\n",
              "      <td>4</td>\n",
              "      <td>barzinho com os amigos</td>\n",
              "      <td>sim</td>\n",
              "      <td>crossfit</td>\n",
              "      <td>3.0</td>\n",
              "      <td>não</td>\n",
              "      <td>Ensino Médio</td>\n",
              "      <td>23</td>\n",
              "    </tr>\n",
              "    <tr>\n",
              "      <th>6</th>\n",
              "      <td>Marcela</td>\n",
              "      <td>Santos</td>\n",
              "      <td>1987</td>\n",
              "      <td>f</td>\n",
              "      <td>Pernanbuco</td>\n",
              "      <td>Não informado</td>\n",
              "      <td>0</td>\n",
              "      <td>Viuvo</td>\n",
              "      <td>0</td>\n",
              "      <td>caminhar</td>\n",
              "      <td>não</td>\n",
              "      <td>-</td>\n",
              "      <td>0.0</td>\n",
              "      <td>sim</td>\n",
              "      <td>Ensino Médio</td>\n",
              "      <td>122</td>\n",
              "    </tr>\n",
              "    <tr>\n",
              "      <th>7</th>\n",
              "      <td>Joao</td>\n",
              "      <td>Victor</td>\n",
              "      <td>2001</td>\n",
              "      <td>m</td>\n",
              "      <td>São Paulo</td>\n",
              "      <td>estagiario</td>\n",
              "      <td>2</td>\n",
              "      <td>Solteiro</td>\n",
              "      <td>0</td>\n",
              "      <td>só jogo bola</td>\n",
              "      <td>sim</td>\n",
              "      <td>jogo bola</td>\n",
              "      <td>1.0</td>\n",
              "      <td>não</td>\n",
              "      <td>Ensino Superior</td>\n",
              "      <td>234</td>\n",
              "    </tr>\n",
              "    <tr>\n",
              "      <th>8</th>\n",
              "      <td>Marcos</td>\n",
              "      <td>Victor</td>\n",
              "      <td>1998</td>\n",
              "      <td>m</td>\n",
              "      <td>Rio de Janeiro</td>\n",
              "      <td>estagiario</td>\n",
              "      <td>1</td>\n",
              "      <td>Solteiro</td>\n",
              "      <td>0</td>\n",
              "      <td>fico em casa</td>\n",
              "      <td>não</td>\n",
              "      <td>-</td>\n",
              "      <td>0.0</td>\n",
              "      <td>sim</td>\n",
              "      <td>Ensino Superior</td>\n",
              "      <td>454</td>\n",
              "    </tr>\n",
              "    <tr>\n",
              "      <th>9</th>\n",
              "      <td>Mirtes</td>\n",
              "      <td>99</td>\n",
              "      <td>1976</td>\n",
              "      <td>f</td>\n",
              "      <td>Vitoria</td>\n",
              "      <td>Médica</td>\n",
              "      <td>5</td>\n",
              "      <td>Casada</td>\n",
              "      <td>2</td>\n",
              "      <td>leitura e ficar com os filhos</td>\n",
              "      <td>sim</td>\n",
              "      <td>crossfit</td>\n",
              "      <td>3.0</td>\n",
              "      <td>sim</td>\n",
              "      <td>Ensino Superior</td>\n",
              "      <td>55</td>\n",
              "    </tr>\n",
              "    <tr>\n",
              "      <th>10</th>\n",
              "      <td>Camila</td>\n",
              "      <td>Sousa</td>\n",
              "      <td>2003</td>\n",
              "      <td>f</td>\n",
              "      <td>Rio Grande do Sul</td>\n",
              "      <td>estudante</td>\n",
              "      <td>2</td>\n",
              "      <td>Solteira</td>\n",
              "      <td>1</td>\n",
              "      <td>leitura e ficar com minha filha</td>\n",
              "      <td>sim</td>\n",
              "      <td>natação</td>\n",
              "      <td>3.0</td>\n",
              "      <td>não</td>\n",
              "      <td>Ensino Superior</td>\n",
              "      <td>99</td>\n",
              "    </tr>\n",
              "    <tr>\n",
              "      <th>11</th>\n",
              "      <td>Jaqueline</td>\n",
              "      <td>Virtude</td>\n",
              "      <td>1999</td>\n",
              "      <td>f</td>\n",
              "      <td>Aparecida</td>\n",
              "      <td>Enfermeira</td>\n",
              "      <td>7</td>\n",
              "      <td>Solteira</td>\n",
              "      <td>3</td>\n",
              "      <td>leitura, limpo a casa</td>\n",
              "      <td>não</td>\n",
              "      <td>-</td>\n",
              "      <td>0.0</td>\n",
              "      <td>sim</td>\n",
              "      <td>Ensino Superior</td>\n",
              "      <td>100</td>\n",
              "    </tr>\n",
              "    <tr>\n",
              "      <th>12</th>\n",
              "      <td>Dirce</td>\n",
              "      <td>Nogueira</td>\n",
              "      <td>1967</td>\n",
              "      <td>f</td>\n",
              "      <td>São Paulo</td>\n",
              "      <td>Autonoma</td>\n",
              "      <td>9</td>\n",
              "      <td>Casada</td>\n",
              "      <td>5</td>\n",
              "      <td>fico com meus filhos, durante a semana não ten...</td>\n",
              "      <td>não</td>\n",
              "      <td>-</td>\n",
              "      <td>0.0</td>\n",
              "      <td>sim</td>\n",
              "      <td>Ensino Superior</td>\n",
              "      <td>130</td>\n",
              "    </tr>\n",
              "    <tr>\n",
              "      <th>13</th>\n",
              "      <td>Dirceu</td>\n",
              "      <td>Nogueira</td>\n",
              "      <td>1966</td>\n",
              "      <td>m</td>\n",
              "      <td>São Paulo</td>\n",
              "      <td>Caminhoneiro</td>\n",
              "      <td>2</td>\n",
              "      <td>Casado</td>\n",
              "      <td>2</td>\n",
              "      <td>churrasco</td>\n",
              "      <td>não</td>\n",
              "      <td>-</td>\n",
              "      <td>0.0</td>\n",
              "      <td>sim</td>\n",
              "      <td>Ensino Médio</td>\n",
              "      <td>43</td>\n",
              "    </tr>\n",
              "    <tr>\n",
              "      <th>14</th>\n",
              "      <td>Lucas</td>\n",
              "      <td>Silva e Silva</td>\n",
              "      <td>1995</td>\n",
              "      <td>m</td>\n",
              "      <td>Goias</td>\n",
              "      <td>desempregado</td>\n",
              "      <td>1</td>\n",
              "      <td>Solteiro</td>\n",
              "      <td>0</td>\n",
              "      <td>estudo</td>\n",
              "      <td>sim</td>\n",
              "      <td>correr na rua</td>\n",
              "      <td>4.0</td>\n",
              "      <td>não</td>\n",
              "      <td>Ensino Superior</td>\n",
              "      <td>32</td>\n",
              "    </tr>\n",
              "    <tr>\n",
              "      <th>15</th>\n",
              "      <td>Guilherme</td>\n",
              "      <td>Santos</td>\n",
              "      <td>1997</td>\n",
              "      <td>m</td>\n",
              "      <td>Pernanbuco</td>\n",
              "      <td>Gerente Financeiro</td>\n",
              "      <td>4</td>\n",
              "      <td>Casado</td>\n",
              "      <td>1</td>\n",
              "      <td>correr na rua</td>\n",
              "      <td>sim</td>\n",
              "      <td>Academia</td>\n",
              "      <td>3.0</td>\n",
              "      <td>sim</td>\n",
              "      <td>Ensino Superior</td>\n",
              "      <td>31</td>\n",
              "    </tr>\n",
              "    <tr>\n",
              "      <th>16</th>\n",
              "      <td>Mirtes</td>\n",
              "      <td>de Jesus</td>\n",
              "      <td>1993</td>\n",
              "      <td>f</td>\n",
              "      <td>Bahia</td>\n",
              "      <td>Dentista</td>\n",
              "      <td>6</td>\n",
              "      <td>Solteira</td>\n",
              "      <td>1</td>\n",
              "      <td>correr e ficar com os amigos</td>\n",
              "      <td>sim</td>\n",
              "      <td>Academia</td>\n",
              "      <td>4.0</td>\n",
              "      <td>sim</td>\n",
              "      <td>Ensino Superior</td>\n",
              "      <td>320</td>\n",
              "    </tr>\n",
              "    <tr>\n",
              "      <th>17</th>\n",
              "      <td>Gabriel</td>\n",
              "      <td>Neto</td>\n",
              "      <td>2008</td>\n",
              "      <td>m</td>\n",
              "      <td>Bahia</td>\n",
              "      <td>estudante</td>\n",
              "      <td>0</td>\n",
              "      <td>Solteiro</td>\n",
              "      <td>0</td>\n",
              "      <td>só jogo bola, gosto de ficar com os amigos em ...</td>\n",
              "      <td>não</td>\n",
              "      <td>-</td>\n",
              "      <td>0.0</td>\n",
              "      <td>não</td>\n",
              "      <td>ensino médio</td>\n",
              "      <td>152</td>\n",
              "    </tr>\n",
              "    <tr>\n",
              "      <th>18</th>\n",
              "      <td>Sidney</td>\n",
              "      <td>Magal</td>\n",
              "      <td>1988</td>\n",
              "      <td>m</td>\n",
              "      <td>Acre</td>\n",
              "      <td>Caminhoneiro</td>\n",
              "      <td>1</td>\n",
              "      <td>Casado</td>\n",
              "      <td>3</td>\n",
              "      <td>não faço nada</td>\n",
              "      <td>não</td>\n",
              "      <td>-</td>\n",
              "      <td>99.0</td>\n",
              "      <td>sim</td>\n",
              "      <td>ensino médio</td>\n",
              "      <td>35</td>\n",
              "    </tr>\n",
              "    <tr>\n",
              "      <th>19</th>\n",
              "      <td>Virna</td>\n",
              "      <td>de Sousa Santos</td>\n",
              "      <td>1987</td>\n",
              "      <td>f</td>\n",
              "      <td>Fortaleza</td>\n",
              "      <td>Nutricionista</td>\n",
              "      <td>3</td>\n",
              "      <td>Casada</td>\n",
              "      <td>0</td>\n",
              "      <td>academia, limpeza de casa</td>\n",
              "      <td>sim</td>\n",
              "      <td>natação</td>\n",
              "      <td>2.0</td>\n",
              "      <td>sim</td>\n",
              "      <td>ensino superior</td>\n",
              "      <td>14</td>\n",
              "    </tr>\n",
              "    <tr>\n",
              "      <th>20</th>\n",
              "      <td>Bruno</td>\n",
              "      <td>Amargo</td>\n",
              "      <td>1996</td>\n",
              "      <td>m</td>\n",
              "      <td>Minas Gerais</td>\n",
              "      <td>Pedreiro</td>\n",
              "      <td>3</td>\n",
              "      <td>Casado</td>\n",
              "      <td>1</td>\n",
              "      <td>jogo bola</td>\n",
              "      <td>sim</td>\n",
              "      <td>jogo bola</td>\n",
              "      <td>99.0</td>\n",
              "      <td>99</td>\n",
              "      <td>ensino Médio</td>\n",
              "      <td>223</td>\n",
              "    </tr>\n",
              "    <tr>\n",
              "      <th>21</th>\n",
              "      <td>Patricia</td>\n",
              "      <td>Alburquerque</td>\n",
              "      <td>1982</td>\n",
              "      <td>f</td>\n",
              "      <td>Santa Catarina</td>\n",
              "      <td>Professora</td>\n",
              "      <td>5</td>\n",
              "      <td>Casada</td>\n",
              "      <td>2</td>\n",
              "      <td>caminhar, ficar com os filhos</td>\n",
              "      <td>sim</td>\n",
              "      <td>zumba</td>\n",
              "      <td>2.0</td>\n",
              "      <td>sim</td>\n",
              "      <td>ensino superior</td>\n",
              "      <td>122</td>\n",
              "    </tr>\n",
              "    <tr>\n",
              "      <th>22</th>\n",
              "      <td>Cibele</td>\n",
              "      <td>Mirela</td>\n",
              "      <td>1985</td>\n",
              "      <td>f</td>\n",
              "      <td>Santo Andre</td>\n",
              "      <td>Recursos Humanos</td>\n",
              "      <td>7</td>\n",
              "      <td>Divorciada</td>\n",
              "      <td>1</td>\n",
              "      <td>nada</td>\n",
              "      <td>não</td>\n",
              "      <td>-</td>\n",
              "      <td>1.0</td>\n",
              "      <td>não</td>\n",
              "      <td>ensino superior</td>\n",
              "      <td>244</td>\n",
              "    </tr>\n",
              "    <tr>\n",
              "      <th>23</th>\n",
              "      <td>Artur</td>\n",
              "      <td>Vidal</td>\n",
              "      <td>1988</td>\n",
              "      <td>m</td>\n",
              "      <td>Espirito Santo</td>\n",
              "      <td>Frentista</td>\n",
              "      <td>2</td>\n",
              "      <td>Divorciada</td>\n",
              "      <td>3</td>\n",
              "      <td>jogo bola</td>\n",
              "      <td>sim</td>\n",
              "      <td>jobo bola</td>\n",
              "      <td>5.0</td>\n",
              "      <td>não</td>\n",
              "      <td>ensino médio</td>\n",
              "      <td>424</td>\n",
              "    </tr>\n",
              "    <tr>\n",
              "      <th>24</th>\n",
              "      <td>Matias</td>\n",
              "      <td>do Campo</td>\n",
              "      <td>1992</td>\n",
              "      <td>m</td>\n",
              "      <td>São Paulo</td>\n",
              "      <td>Gerente Financeiro</td>\n",
              "      <td>1</td>\n",
              "      <td>Divorciada</td>\n",
              "      <td>1</td>\n",
              "      <td>caminhar, ler livros e ficar com o filho</td>\n",
              "      <td>sim</td>\n",
              "      <td>crossfit</td>\n",
              "      <td>3.0</td>\n",
              "      <td>sim</td>\n",
              "      <td>ensino superior</td>\n",
              "      <td>51</td>\n",
              "    </tr>\n",
              "    <tr>\n",
              "      <th>25</th>\n",
              "      <td>Minerva</td>\n",
              "      <td>Campina</td>\n",
              "      <td>1991</td>\n",
              "      <td>f</td>\n",
              "      <td>Bahia</td>\n",
              "      <td>Enfermeira</td>\n",
              "      <td>1</td>\n",
              "      <td>Solteira</td>\n",
              "      <td>1</td>\n",
              "      <td>correr, ler, estudar e ficar com os amigos</td>\n",
              "      <td>não</td>\n",
              "      <td>-</td>\n",
              "      <td>0.0</td>\n",
              "      <td>não</td>\n",
              "      <td>ensino superior</td>\n",
              "      <td>91</td>\n",
              "    </tr>\n",
              "    <tr>\n",
              "      <th>26</th>\n",
              "      <td>Washington</td>\n",
              "      <td>Manoel</td>\n",
              "      <td>1986</td>\n",
              "      <td>m</td>\n",
              "      <td>Goias</td>\n",
              "      <td>Gerente Geral</td>\n",
              "      <td>3</td>\n",
              "      <td>Casado</td>\n",
              "      <td>0</td>\n",
              "      <td>final de semana tiro para descançar</td>\n",
              "      <td>sim</td>\n",
              "      <td>academia</td>\n",
              "      <td>3.0</td>\n",
              "      <td>sim</td>\n",
              "      <td>ensino superior</td>\n",
              "      <td>10</td>\n",
              "    </tr>\n",
              "    <tr>\n",
              "      <th>27</th>\n",
              "      <td>Pedro</td>\n",
              "      <td>Miguel Junior</td>\n",
              "      <td>1984</td>\n",
              "      <td>m</td>\n",
              "      <td>São Paulo</td>\n",
              "      <td>Analista de Sistemas</td>\n",
              "      <td>7</td>\n",
              "      <td>Solteiro</td>\n",
              "      <td>0</td>\n",
              "      <td>barzinho com os amigos e descançar</td>\n",
              "      <td>sim</td>\n",
              "      <td>natação</td>\n",
              "      <td>2.0</td>\n",
              "      <td>sim</td>\n",
              "      <td>ensino superior</td>\n",
              "      <td>13</td>\n",
              "    </tr>\n",
              "    <tr>\n",
              "      <th>28</th>\n",
              "      <td>Tamires</td>\n",
              "      <td>Sousa</td>\n",
              "      <td>1988</td>\n",
              "      <td>f</td>\n",
              "      <td>São Paulo</td>\n",
              "      <td>Biomedica</td>\n",
              "      <td>3</td>\n",
              "      <td>Solteira</td>\n",
              "      <td>0</td>\n",
              "      <td>barzinho com os amigos e descançar</td>\n",
              "      <td>sim</td>\n",
              "      <td>academia</td>\n",
              "      <td>3.0</td>\n",
              "      <td>não</td>\n",
              "      <td>ensino superior</td>\n",
              "      <td>4</td>\n",
              "    </tr>\n",
              "    <tr>\n",
              "      <th>29</th>\n",
              "      <td>Rafael</td>\n",
              "      <td>Nordenho</td>\n",
              "      <td>1988</td>\n",
              "      <td>m</td>\n",
              "      <td>Fortaleza</td>\n",
              "      <td>Comercio Exterior</td>\n",
              "      <td>2</td>\n",
              "      <td>Solteiro</td>\n",
              "      <td>0</td>\n",
              "      <td>correr, ler, estudar e ficar com os amigos</td>\n",
              "      <td>sim</td>\n",
              "      <td>crossfit</td>\n",
              "      <td>5.0</td>\n",
              "      <td>sim</td>\n",
              "      <td>ensino superior</td>\n",
              "      <td>2</td>\n",
              "    </tr>\n",
              "  </tbody>\n",
              "</table>\n",
              "</div>"
            ],
            "text/plain": [
              "          nome        sobrenome  ano_nascimento  ... tem carro     escolaridade   Km\n",
              "0       Dirceu           Manolo            1985  ...       sim  Ensino Superior   34\n",
              "1        Maria            Silva            1970  ...       não     Ensino Médio  300\n",
              "2    Adalberto          Martins            1990  ...       sim  Ensino Superior  150\n",
              "3         João        Aparecido            1950  ...       sim  Ensino Superior  345\n",
              "4        Marta         da Silva            1983  ...       não   Ensimo Tecnico   34\n",
              "5        Vilma          Narsiza            1995  ...       não     Ensino Médio   23\n",
              "6      Marcela           Santos            1987  ...       sim     Ensino Médio  122\n",
              "7         Joao           Victor            2001  ...       não  Ensino Superior  234\n",
              "8       Marcos           Victor            1998  ...       sim  Ensino Superior  454\n",
              "9       Mirtes               99            1976  ...       sim  Ensino Superior   55\n",
              "10      Camila            Sousa            2003  ...       não  Ensino Superior   99\n",
              "11   Jaqueline          Virtude            1999  ...       sim  Ensino Superior  100\n",
              "12       Dirce         Nogueira            1967  ...       sim  Ensino Superior  130\n",
              "13      Dirceu         Nogueira            1966  ...       sim     Ensino Médio   43\n",
              "14       Lucas    Silva e Silva            1995  ...       não  Ensino Superior   32\n",
              "15   Guilherme           Santos            1997  ...       sim  Ensino Superior   31\n",
              "16      Mirtes         de Jesus            1993  ...       sim  Ensino Superior  320\n",
              "17     Gabriel             Neto            2008  ...       não     ensino médio  152\n",
              "18      Sidney            Magal            1988  ...       sim     ensino médio   35\n",
              "19       Virna  de Sousa Santos            1987  ...       sim  ensino superior   14\n",
              "20       Bruno           Amargo            1996  ...        99     ensino Médio  223\n",
              "21    Patricia     Alburquerque            1982  ...       sim  ensino superior  122\n",
              "22      Cibele           Mirela            1985  ...       não  ensino superior  244\n",
              "23       Artur            Vidal            1988  ...       não     ensino médio  424\n",
              "24      Matias         do Campo            1992  ...       sim  ensino superior   51\n",
              "25     Minerva          Campina            1991  ...       não  ensino superior   91\n",
              "26  Washington           Manoel            1986  ...       sim  ensino superior   10\n",
              "27       Pedro    Miguel Junior            1984  ...       sim  ensino superior   13\n",
              "28     Tamires            Sousa            1988  ...       não  ensino superior    4\n",
              "29      Rafael         Nordenho            1988  ...       sim  ensino superior    2\n",
              "\n",
              "[30 rows x 16 columns]"
            ]
          },
          "metadata": {},
          "execution_count": 14
        }
      ]
    },
    {
      "cell_type": "code",
      "metadata": {
        "colab": {
          "base_uri": "https://localhost:8080/"
        },
        "id": "U3pAgN2dR9wU",
        "outputId": "8616238c-ce79-4590-8e22-d42fab1c3255"
      },
      "source": [
        "\n",
        "cadastro_df['quanta_vezes_na_semana_pratica_esporte'].mean()"
      ],
      "execution_count": 15,
      "outputs": [
        {
          "output_type": "execute_result",
          "data": {
            "text/plain": [
              "2.074074074074074"
            ]
          },
          "metadata": {},
          "execution_count": 15
        }
      ]
    },
    {
      "cell_type": "markdown",
      "metadata": {
        "id": "DHcSaRGzP8Pa"
      },
      "source": [
        "✈**ATIVIDADE FINAL **✈\n",
        "\n",
        "\n",
        "\n",
        "\n"
      ]
    },
    {
      "cell_type": "markdown",
      "metadata": {
        "id": "rhQoXRBnQcO0"
      },
      "source": [
        "#Qual a idade média das pessoas no cadastro \n",
        "\n"
      ]
    },
    {
      "cell_type": "code",
      "metadata": {
        "id": "etrRU0WMUCEB"
      },
      "source": [
        "import numpy as np"
      ],
      "execution_count": 51,
      "outputs": []
    },
    {
      "cell_type": "code",
      "metadata": {
        "id": "um3VPh0CVAcx"
      },
      "source": [
        "import datetime"
      ],
      "execution_count": 52,
      "outputs": []
    },
    {
      "cell_type": "code",
      "metadata": {
        "id": "IL9190olVP9z"
      },
      "source": [
        "currentDateTime = datetime.datetime.now()\n",
        "date = currentDateTime.date()"
      ],
      "execution_count": 53,
      "outputs": []
    },
    {
      "cell_type": "code",
      "metadata": {
        "id": "8DA96mHmUZW6"
      },
      "source": [
        "def idade(ano_nascimento):\n",
        "  idade = date.year - ano_nascimento\n",
        "  return idade"
      ],
      "execution_count": 54,
      "outputs": []
    },
    {
      "cell_type": "code",
      "metadata": {
        "colab": {
          "base_uri": "https://localhost:8080/",
          "height": 313
        },
        "id": "gjCz_AAHVq5i",
        "outputId": "2a282e91-c8cc-4013-9c52-44955e012763"
      },
      "source": [
        "cadastro_df['idade'] = idade(cadastro_df['ano_nascimento'])\n",
        "cadastro_df.head()"
      ],
      "execution_count": 55,
      "outputs": [
        {
          "output_type": "execute_result",
          "data": {
            "text/html": [
              "<div>\n",
              "<style scoped>\n",
              "    .dataframe tbody tr th:only-of-type {\n",
              "        vertical-align: middle;\n",
              "    }\n",
              "\n",
              "    .dataframe tbody tr th {\n",
              "        vertical-align: top;\n",
              "    }\n",
              "\n",
              "    .dataframe thead th {\n",
              "        text-align: right;\n",
              "    }\n",
              "</style>\n",
              "<table border=\"1\" class=\"dataframe\">\n",
              "  <thead>\n",
              "    <tr style=\"text-align: right;\">\n",
              "      <th></th>\n",
              "      <th>nome</th>\n",
              "      <th>sobrenome</th>\n",
              "      <th>ano_nascimento</th>\n",
              "      <th>sexo</th>\n",
              "      <th>cidade</th>\n",
              "      <th>profissão</th>\n",
              "      <th>experiencia profissional</th>\n",
              "      <th>estado_civil</th>\n",
              "      <th>filhos</th>\n",
              "      <th>lazer_final_de_semana</th>\n",
              "      <th>pratica_esporte</th>\n",
              "      <th>qual_esporte</th>\n",
              "      <th>quanta_vezes_na_semana_pratica_esporte</th>\n",
              "      <th>tem carro</th>\n",
              "      <th>escolaridade</th>\n",
              "      <th>Km</th>\n",
              "      <th>idade</th>\n",
              "    </tr>\n",
              "  </thead>\n",
              "  <tbody>\n",
              "    <tr>\n",
              "      <th>0</th>\n",
              "      <td>Dirceu</td>\n",
              "      <td>Manolo</td>\n",
              "      <td>1985</td>\n",
              "      <td>m</td>\n",
              "      <td>São Vicente</td>\n",
              "      <td>Cientista de Dados</td>\n",
              "      <td>4</td>\n",
              "      <td>Casado</td>\n",
              "      <td>1</td>\n",
              "      <td>estudar, academia, jogar video game,surfar</td>\n",
              "      <td>sim</td>\n",
              "      <td>academia</td>\n",
              "      <td>3.0</td>\n",
              "      <td>sim</td>\n",
              "      <td>Ensino Superior</td>\n",
              "      <td>34</td>\n",
              "      <td>36</td>\n",
              "    </tr>\n",
              "    <tr>\n",
              "      <th>1</th>\n",
              "      <td>Maria</td>\n",
              "      <td>Silva</td>\n",
              "      <td>1970</td>\n",
              "      <td>f</td>\n",
              "      <td>Santos</td>\n",
              "      <td>dona de casa</td>\n",
              "      <td>2</td>\n",
              "      <td>Casada</td>\n",
              "      <td>3</td>\n",
              "      <td>ver tv</td>\n",
              "      <td>não</td>\n",
              "      <td>-</td>\n",
              "      <td>0.0</td>\n",
              "      <td>não</td>\n",
              "      <td>Ensino Médio</td>\n",
              "      <td>300</td>\n",
              "      <td>51</td>\n",
              "    </tr>\n",
              "    <tr>\n",
              "      <th>2</th>\n",
              "      <td>Adalberto</td>\n",
              "      <td>Martins</td>\n",
              "      <td>1990</td>\n",
              "      <td>m</td>\n",
              "      <td>São Paulo</td>\n",
              "      <td>desempregado</td>\n",
              "      <td>0</td>\n",
              "      <td>Solteiro</td>\n",
              "      <td>1</td>\n",
              "      <td>jogar bola</td>\n",
              "      <td>sim</td>\n",
              "      <td>jogo bola</td>\n",
              "      <td>2.0</td>\n",
              "      <td>sim</td>\n",
              "      <td>Ensino Superior</td>\n",
              "      <td>150</td>\n",
              "      <td>31</td>\n",
              "    </tr>\n",
              "    <tr>\n",
              "      <th>3</th>\n",
              "      <td>João</td>\n",
              "      <td>Aparecido</td>\n",
              "      <td>1950</td>\n",
              "      <td>m</td>\n",
              "      <td>Monte Alto</td>\n",
              "      <td>Gerente de Projeto</td>\n",
              "      <td>3</td>\n",
              "      <td>Viuvo</td>\n",
              "      <td>2</td>\n",
              "      <td>Nã faço nada</td>\n",
              "      <td>NaN</td>\n",
              "      <td>-</td>\n",
              "      <td>NaN</td>\n",
              "      <td>sim</td>\n",
              "      <td>Ensino Superior</td>\n",
              "      <td>345</td>\n",
              "      <td>71</td>\n",
              "    </tr>\n",
              "    <tr>\n",
              "      <th>4</th>\n",
              "      <td>Marta</td>\n",
              "      <td>da Silva</td>\n",
              "      <td>1983</td>\n",
              "      <td>f</td>\n",
              "      <td>São Caetano</td>\n",
              "      <td>Auxiliar de Enfermagem</td>\n",
              "      <td>2</td>\n",
              "      <td>Solteira</td>\n",
              "      <td>0</td>\n",
              "      <td>caminhar</td>\n",
              "      <td>sim</td>\n",
              "      <td>crossfit</td>\n",
              "      <td>4.0</td>\n",
              "      <td>não</td>\n",
              "      <td>Ensimo Tecnico</td>\n",
              "      <td>34</td>\n",
              "      <td>38</td>\n",
              "    </tr>\n",
              "  </tbody>\n",
              "</table>\n",
              "</div>"
            ],
            "text/plain": [
              "        nome  sobrenome  ano_nascimento  ...     escolaridade   Km idade\n",
              "0     Dirceu     Manolo            1985  ...  Ensino Superior   34    36\n",
              "1      Maria      Silva            1970  ...     Ensino Médio  300    51\n",
              "2  Adalberto    Martins            1990  ...  Ensino Superior  150    31\n",
              "3       João  Aparecido            1950  ...  Ensino Superior  345    71\n",
              "4      Marta   da Silva            1983  ...   Ensimo Tecnico   34    38\n",
              "\n",
              "[5 rows x 17 columns]"
            ]
          },
          "metadata": {},
          "execution_count": 55
        }
      ]
    },
    {
      "cell_type": "markdown",
      "metadata": {
        "id": "C6N_vxeFVacj"
      },
      "source": [
        "#Qual a idade média das pessoas no cadastro ?"
      ]
    },
    {
      "cell_type": "code",
      "metadata": {
        "colab": {
          "base_uri": "https://localhost:8080/"
        },
        "id": "c04jBe8wWP4h",
        "outputId": "787f4383-d8df-4ac1-8104-09d2a55cd6e2"
      },
      "source": [
        "cadastro_df['idade'].mean()"
      ],
      "execution_count": 56,
      "outputs": [
        {
          "output_type": "execute_result",
          "data": {
            "text/plain": [
              "33.733333333333334"
            ]
          },
          "metadata": {},
          "execution_count": 56
        }
      ]
    },
    {
      "cell_type": "markdown",
      "metadata": {
        "id": "e1uwD2mHQdWy"
      },
      "source": [
        "#Quantos homens tem no cadastro ?"
      ]
    },
    {
      "cell_type": "code",
      "metadata": {
        "colab": {
          "base_uri": "https://localhost:8080/"
        },
        "id": "hZNULNGxWgyT",
        "outputId": "18ec3da3-6f6c-4f03-9715-cde9a28911db"
      },
      "source": [
        "qtd_homem = cadastro_df[(cadastro_df['sexo'] == 'm')]\n",
        "qtd_homem.groupby(by='sexo').size()\n",
        "print(\"qtd de homens no cadastro\", qtd_homem)"
      ],
      "execution_count": 43,
      "outputs": [
        {
          "output_type": "stream",
          "name": "stdout",
          "text": [
            "qtd de homens no cadastro           nome      sobrenome  ano_nascimento  ...     escolaridade   Km idade\n",
            "0       Dirceu         Manolo            1985  ...  Ensino Superior   34    36\n",
            "2    Adalberto        Martins            1990  ...  Ensino Superior  150    31\n",
            "3         João      Aparecido            1950  ...  Ensino Superior  345    71\n",
            "7         Joao         Victor            2001  ...  Ensino Superior  234    20\n",
            "8       Marcos         Victor            1998  ...  Ensino Superior  454    23\n",
            "13      Dirceu       Nogueira            1966  ...     Ensino Médio   43    55\n",
            "14       Lucas  Silva e Silva            1995  ...  Ensino Superior   32    26\n",
            "15   Guilherme         Santos            1997  ...  Ensino Superior   31    24\n",
            "17     Gabriel           Neto            2008  ...     ensino médio  152    13\n",
            "18      Sidney          Magal            1988  ...     ensino médio   35    33\n",
            "20       Bruno         Amargo            1996  ...     ensino Médio  223    25\n",
            "23       Artur          Vidal            1988  ...     ensino médio  424    33\n",
            "24      Matias       do Campo            1992  ...  ensino superior   51    29\n",
            "26  Washington         Manoel            1986  ...  ensino superior   10    35\n",
            "27       Pedro  Miguel Junior            1984  ...  ensino superior   13    37\n",
            "29      Rafael       Nordenho            1988  ...  ensino superior    2    33\n",
            "\n",
            "[16 rows x 17 columns]\n"
          ]
        }
      ]
    },
    {
      "cell_type": "code",
      "metadata": {
        "colab": {
          "base_uri": "https://localhost:8080/"
        },
        "id": "bS-vw4PPVOL6",
        "outputId": "4b628aee-1ae6-4449-c8ab-e8bf3a0605ad"
      },
      "source": [
        "cadastro_homens_df  = cadastro_df[(cadastro_df['sexo'] == 'm')]\n",
        "cadastro_homens_df.groupby(by='sexo').size()"
      ],
      "execution_count": 44,
      "outputs": [
        {
          "output_type": "execute_result",
          "data": {
            "text/plain": [
              "sexo\n",
              "m    16\n",
              "dtype: int64"
            ]
          },
          "metadata": {},
          "execution_count": 44
        }
      ]
    },
    {
      "cell_type": "markdown",
      "metadata": {
        "id": "WdctCKiAX8jj"
      },
      "source": [
        "#Quantas mulheres tem no cadastro ?"
      ]
    },
    {
      "cell_type": "code",
      "metadata": {
        "colab": {
          "base_uri": "https://localhost:8080/"
        },
        "id": "BrScJE59X9Pt",
        "outputId": "fcb02e58-1173-40d3-a20c-a4c6abba3cf1"
      },
      "source": [
        "qtd_mulheres = cadastro_df[(cadastro_df['sexo'] == 'f')]\n",
        "qtd_mulheres.groupby(by='sexo').size()\n",
        "print(\"qtd de mulheres no cadastro\", qtd_mulheres)"
      ],
      "execution_count": 27,
      "outputs": [
        {
          "output_type": "stream",
          "name": "stdout",
          "text": [
            "qtd de mulheres no cadastro          nome        sobrenome  ano_nascimento  ...     escolaridade   Km idade\n",
            "1       Maria            Silva            1970  ...     Ensino Médio  300    51\n",
            "4       Marta         da Silva            1983  ...   Ensimo Tecnico   34    38\n",
            "5       Vilma          Narsiza            1995  ...     Ensino Médio   23    26\n",
            "6     Marcela           Santos            1987  ...     Ensino Médio  122    34\n",
            "9      Mirtes              NaN            1976  ...  Ensino Superior   55    45\n",
            "10     Camila            Sousa            2003  ...  Ensino Superior   99    18\n",
            "11  Jaqueline          Virtude            1999  ...  Ensino Superior  100    22\n",
            "12      Dirce         Nogueira            1967  ...  Ensino Superior  130    54\n",
            "16     Mirtes         de Jesus            1993  ...  Ensino Superior  320    28\n",
            "19      Virna  de Sousa Santos            1987  ...  ensino superior   14    34\n",
            "21   Patricia     Alburquerque            1982  ...  ensino superior  122    39\n",
            "22     Cibele           Mirela            1985  ...  ensino superior  244    36\n",
            "25    Minerva          Campina            1991  ...  ensino superior   91    30\n",
            "28    Tamires            Sousa            1988  ...  ensino superior    4    33\n",
            "\n",
            "[14 rows x 17 columns]\n"
          ]
        }
      ]
    },
    {
      "cell_type": "code",
      "metadata": {
        "colab": {
          "base_uri": "https://localhost:8080/"
        },
        "id": "dnFo2xSmU_sb",
        "outputId": "26834236-12ad-46ab-de52-75bbd287d213"
      },
      "source": [
        "cadastro_mulheres_df  = cadastro_df[(cadastro_df['sexo'] == 'f')]\n",
        "cadastro_mulheres_df.groupby(by='sexo').size()"
      ],
      "execution_count": 57,
      "outputs": [
        {
          "output_type": "execute_result",
          "data": {
            "text/plain": [
              "sexo\n",
              "f    14\n",
              "dtype: int64"
            ]
          },
          "metadata": {},
          "execution_count": 57
        }
      ]
    },
    {
      "cell_type": "markdown",
      "metadata": {
        "id": "YY-4b0XxX3PL"
      },
      "source": [
        "#Qual a idade média dos homens e das mulheres ?\n"
      ]
    },
    {
      "cell_type": "code",
      "metadata": {
        "colab": {
          "base_uri": "https://localhost:8080/"
        },
        "id": "sdppfMAZYVxJ",
        "outputId": "4ec846d5-1c96-4c16-9649-7bc8fc873ffb"
      },
      "source": [
        "media_homem = cadastro_df['idade'].mean()\n",
        "media_mulher = cadastro_df['idade'].mean()\n",
        "print(\"Media_Homens:\", media_homem, \"e Media_Mulheres:\", media_mulher)"
      ],
      "execution_count": 39,
      "outputs": [
        {
          "output_type": "stream",
          "name": "stdout",
          "text": [
            "Media_Homens: 33.733333333333334 e Media_Mulheres: 33.733333333333334\n"
          ]
        }
      ]
    },
    {
      "cell_type": "code",
      "metadata": {
        "id": "rPFOY8NreULi"
      },
      "source": [
        "import matplotlib.pyplot as plt\n",
        "%matplotlib inline"
      ],
      "execution_count": 29,
      "outputs": []
    },
    {
      "cell_type": "markdown",
      "metadata": {
        "id": "KTVgGm7ERD5E"
      },
      "source": [
        "#Crie um gráfico de barras e mostre a distribuição de escolaridade no cadastro ?"
      ]
    },
    {
      "cell_type": "code",
      "metadata": {
        "colab": {
          "base_uri": "https://localhost:8080/",
          "height": 334
        },
        "id": "q_GC1xx3dKbq",
        "outputId": "57e71531-a734-4024-8715-3fb59928d595"
      },
      "source": [
        "cadastro_df[\"escolaridade\"].value_counts()\n",
        "cadastro_df[\"escolaridade\"].value_counts().plot(kind='bar', color='pink');"
      ],
      "execution_count": 30,
      "outputs": [
        {
          "output_type": "display_data",
          "data": {
            "image/png": "[encoded data removed]",
            "text/plain": [
              "<Figure size 432x288 with 1 Axes>"
            ]
          },
          "metadata": {
            "needs_background": "light"
          }
        }
      ]
    },
    {
      "cell_type": "code",
      "metadata": {
        "colab": {
          "base_uri": "https://localhost:8080/",
          "height": 135
        },
        "id": "cwMGJf_JgWTj",
        "outputId": "f10afabc-c848-4524-9794-2719eedfdcdb"
      },
      "source": [
        "cadastro_df = cadastro_df.replace('ensino Médio', 'Ensino Médio')\n",
        "cadastro_df = cadastro_df.replace('ensino médio', 'Ensino Médio')\n",
        "cadastro_df = cadastro_df.replace('ensino superior', 'Ensino Superior')\n",
        "cadastro_df['qtd_escolaridade'] = 1\n",
        "cadastro_df.head(1)"
      ],
      "execution_count": 79,
      "outputs": [
        {
          "output_type": "execute_result",
          "data": {
            "text/html": [
              "<div>\n",
              "<style scoped>\n",
              "    .dataframe tbody tr th:only-of-type {\n",
              "        vertical-align: middle;\n",
              "    }\n",
              "\n",
              "    .dataframe tbody tr th {\n",
              "        vertical-align: top;\n",
              "    }\n",
              "\n",
              "    .dataframe thead th {\n",
              "        text-align: right;\n",
              "    }\n",
              "</style>\n",
              "<table border=\"1\" class=\"dataframe\">\n",
              "  <thead>\n",
              "    <tr style=\"text-align: right;\">\n",
              "      <th></th>\n",
              "      <th>nome</th>\n",
              "      <th>sobrenome</th>\n",
              "      <th>ano_nascimento</th>\n",
              "      <th>sexo</th>\n",
              "      <th>cidade</th>\n",
              "      <th>Profissões</th>\n",
              "      <th>experiencia profissional</th>\n",
              "      <th>estado_civil</th>\n",
              "      <th>filhos</th>\n",
              "      <th>lazer_final_de_semana</th>\n",
              "      <th>pratica_esporte</th>\n",
              "      <th>qual_esporte</th>\n",
              "      <th>quanta_vezes_na_semana_pratica_esporte</th>\n",
              "      <th>tem carro</th>\n",
              "      <th>escolaridade</th>\n",
              "      <th>Km</th>\n",
              "      <th>idade</th>\n",
              "      <th>qtd_escolaridade</th>\n",
              "    </tr>\n",
              "  </thead>\n",
              "  <tbody>\n",
              "    <tr>\n",
              "      <th>0</th>\n",
              "      <td>Dirceu</td>\n",
              "      <td>Manolo</td>\n",
              "      <td>1985</td>\n",
              "      <td>m</td>\n",
              "      <td>São Vicente</td>\n",
              "      <td>Cientista de Dados</td>\n",
              "      <td>4</td>\n",
              "      <td>Casado</td>\n",
              "      <td>1</td>\n",
              "      <td>estudar, academia, jogar video game,surfar</td>\n",
              "      <td>sim</td>\n",
              "      <td>academia</td>\n",
              "      <td>3.0</td>\n",
              "      <td>sim</td>\n",
              "      <td>Ensino Superior</td>\n",
              "      <td>34</td>\n",
              "      <td>36</td>\n",
              "      <td>1</td>\n",
              "    </tr>\n",
              "  </tbody>\n",
              "</table>\n",
              "</div>"
            ],
            "text/plain": [
              "     nome sobrenome  ano_nascimento  ...  Km idade qtd_escolaridade\n",
              "0  Dirceu    Manolo            1985  ...  34    36                1\n",
              "\n",
              "[1 rows x 18 columns]"
            ]
          },
          "metadata": {},
          "execution_count": 79
        }
      ]
    },
    {
      "cell_type": "code",
      "metadata": {
        "colab": {
          "base_uri": "https://localhost:8080/",
          "height": 282
        },
        "id": "8R5L1dIngW7I",
        "outputId": "ae3bc18c-186a-420b-f2a5-d6e157950ebb"
      },
      "source": [
        "escolaridade = cadastro_df.groupby('escolaridade')\n",
        "escolaridade.sum()\n",
        "escolaridade.sum()['qtd_escolaridade'].plot(kind='barh',x='escolaridade',y='quantidade', color='pink')\n"
      ],
      "execution_count": 87,
      "outputs": [
        {
          "output_type": "execute_result",
          "data": {
            "text/plain": [
              "<matplotlib.axes._subplots.AxesSubplot at 0x7f7d038b03d0>"
            ]
          },
          "metadata": {},
          "execution_count": 87
        },
        {
          "output_type": "display_data",
          "data": {
            "image/png": "[encoded data removed]",
            "text/plain": [
              "<Figure size 432x288 with 1 Axes>"
            ]
          },
          "metadata": {
            "needs_background": "light"
          }
        }
      ]
    },
    {
      "cell_type": "code",
      "metadata": {
        "colab": {
          "base_uri": "https://localhost:8080/",
          "height": 216
        },
        "id": "-sj1e5WHlxOa",
        "outputId": "f8095622-f42d-4fa2-f437-96aaede021cc"
      },
      "source": [
        "\n",
        "from google.colab import data_table\n",
        "data_table.DataTable(df3)\n"
      ],
      "execution_count": 31,
      "outputs": [
        {
          "output_type": "execute_result",
          "data": {
            "application/vnd.google.colaboratory.module+javascript": "\n      import \"https://ssl.gstatic.com/colaboratory/data_table/a6224c040fa35dcf/data_table.js\";\n\n      window.createDataTable({\n        data: [[{\n            'v': 0,\n            'f': \"0\",\n        },\n\"Jo\\u00e3o\",\n\"Aparecido\",\n{\n            'v': 1950,\n            'f': \"1950\",\n        },\n\"m\",\n\"Monte Alto\",\n\"Gerente de Projeto\",\n{\n            'v': 3,\n            'f': \"3\",\n        },\n\"Viuvo\",\n{\n            'v': 2,\n            'f': \"2\",\n        },\n\"N\\u00e3 fa\\u00e7o nada\",\nNaN,\n\"-\",\n{\n            'v': NaN,\n            'f': \"NaN\",\n        },\n\"sim\",\n\"Ensino Superior\",\n{\n            'v': 345,\n            'f': \"345\",\n        },\n{\n            'v': 4.0,\n            'f': \"4.0\",\n        }],\n [{\n            'v': 1,\n            'f': \"1\",\n        },\n\"Camila\",\n\"Sousa\",\n{\n            'v': 2003,\n            'f': \"2003\",\n        },\n\"f\",\n\"Rio Grande do Sul\",\n\"estudante\",\n{\n            'v': 2,\n            'f': \"2\",\n        },\n\"Solteira\",\n{\n            'v': 1,\n            'f': \"1\",\n        },\n\"leitura e ficar com minha filha\",\n\"sim\",\n\"nata\\u00e7\\u00e3o\",\n{\n            'v': 3.0,\n            'f': \"3.0\",\n        },\n\"n\\u00e3o\",\n\"Ensino Superior\",\n{\n            'v': 99,\n            'f': \"99\",\n        },\n{\n            'v': 3.0,\n            'f': \"3.0\",\n        }]],\n        columns: [[\"number\", \"index\"], [\"string\", \"nome\"], [\"string\", \"sobrenome\"], [\"number\", \"ano_nascimento\"], [\"string\", \"sexo\"], [\"string\", \"cidade\"], [\"string\", \"profiss\\u00e3o\"], [\"number\", \"experiencia profissional\"], [\"string\", \"estado_civil\"], [\"number\", \"filhos\"], [\"string\", \"lazer_final_de_semana\"], [\"string\", \"pratica_esporte\"], [\"string\", \"qual_esporte\"], [\"number\", \"quanta_vezes_na_semana_pratica_esporte\"], [\"string\", \"tem carro\"], [\"string\", \"escolaridade\"], [\"number\", \"Km\"], [\"number\", \"pre\\u00e7o\"]],\n        columnOptions: [{\"width\": \"1px\", \"className\": \"index_column\"}],\n        rowsPerPage: 25,\n        helpUrl: \"https://colab.research.google.com/notebooks/data_table.ipynb\",\n        suppressOutputScrolling: true,\n        minimumWidth: undefined,\n      });\n    ",
            "text/plain": [
              "<google.colab.data_table.DataTable object>"
            ],
            "text/html": [
              "<div>\n",
              "<style scoped>\n",
              "    .dataframe tbody tr th:only-of-type {\n",
              "        vertical-align: middle;\n",
              "    }\n",
              "\n",
              "    .dataframe tbody tr th {\n",
              "        vertical-align: top;\n",
              "    }\n",
              "\n",
              "    .dataframe thead th {\n",
              "        text-align: right;\n",
              "    }\n",
              "</style>\n",
              "<table border=\"1\" class=\"dataframe\">\n",
              "  <thead>\n",
              "    <tr style=\"text-align: right;\">\n",
              "      <th></th>\n",
              "      <th>nome</th>\n",
              "      <th>sobrenome</th>\n",
              "      <th>ano_nascimento</th>\n",
              "      <th>sexo</th>\n",
              "      <th>cidade</th>\n",
              "      <th>profissão</th>\n",
              "      <th>experiencia profissional</th>\n",
              "      <th>estado_civil</th>\n",
              "      <th>filhos</th>\n",
              "      <th>lazer_final_de_semana</th>\n",
              "      <th>pratica_esporte</th>\n",
              "      <th>qual_esporte</th>\n",
              "      <th>quanta_vezes_na_semana_pratica_esporte</th>\n",
              "      <th>tem carro</th>\n",
              "      <th>escolaridade</th>\n",
              "      <th>Km</th>\n",
              "      <th>preço</th>\n",
              "    </tr>\n",
              "  </thead>\n",
              "  <tbody>\n",
              "    <tr>\n",
              "      <th>0</th>\n",
              "      <td>João</td>\n",
              "      <td>Aparecido</td>\n",
              "      <td>1950</td>\n",
              "      <td>m</td>\n",
              "      <td>Monte Alto</td>\n",
              "      <td>Gerente de Projeto</td>\n",
              "      <td>3</td>\n",
              "      <td>Viuvo</td>\n",
              "      <td>2</td>\n",
              "      <td>Nã faço nada</td>\n",
              "      <td>NaN</td>\n",
              "      <td>-</td>\n",
              "      <td>NaN</td>\n",
              "      <td>sim</td>\n",
              "      <td>Ensino Superior</td>\n",
              "      <td>345</td>\n",
              "      <td>4.0</td>\n",
              "    </tr>\n",
              "    <tr>\n",
              "      <th>1</th>\n",
              "      <td>Camila</td>\n",
              "      <td>Sousa</td>\n",
              "      <td>2003</td>\n",
              "      <td>f</td>\n",
              "      <td>Rio Grande do Sul</td>\n",
              "      <td>estudante</td>\n",
              "      <td>2</td>\n",
              "      <td>Solteira</td>\n",
              "      <td>1</td>\n",
              "      <td>leitura e ficar com minha filha</td>\n",
              "      <td>sim</td>\n",
              "      <td>natação</td>\n",
              "      <td>3.0</td>\n",
              "      <td>não</td>\n",
              "      <td>Ensino Superior</td>\n",
              "      <td>99</td>\n",
              "      <td>3.0</td>\n",
              "    </tr>\n",
              "  </tbody>\n",
              "</table>\n",
              "</div>"
            ]
          },
          "metadata": {},
          "execution_count": 31
        }
      ]
    },
    {
      "cell_type": "code",
      "metadata": {
        "colab": {
          "base_uri": "https://localhost:8080/",
          "height": 206
        },
        "id": "j0VU5WfHaJwi",
        "outputId": "bee44c5c-12f2-46f5-bc40-544f23a4aa39"
      },
      "source": [
        "import pandas as pd\n",
        "salario_df = pd.read_csv(r'salario_profissoes - salario_profissoes.csv', encoding = 'utf-8')\n",
        "display(salario_df.head())"
      ],
      "execution_count": 60,
      "outputs": [
        {
          "output_type": "display_data",
          "data": {
            "text/html": [
              "<div>\n",
              "<style scoped>\n",
              "    .dataframe tbody tr th:only-of-type {\n",
              "        vertical-align: middle;\n",
              "    }\n",
              "\n",
              "    .dataframe tbody tr th {\n",
              "        vertical-align: top;\n",
              "    }\n",
              "\n",
              "    .dataframe thead th {\n",
              "        text-align: right;\n",
              "    }\n",
              "</style>\n",
              "<table border=\"1\" class=\"dataframe\">\n",
              "  <thead>\n",
              "    <tr style=\"text-align: right;\">\n",
              "      <th></th>\n",
              "      <th>Profissões</th>\n",
              "      <th>salario até 3 anos</th>\n",
              "      <th>salaior +3 anos</th>\n",
              "    </tr>\n",
              "  </thead>\n",
              "  <tbody>\n",
              "    <tr>\n",
              "      <th>0</th>\n",
              "      <td>Cientista de Dados</td>\n",
              "      <td>10000</td>\n",
              "      <td>14000</td>\n",
              "    </tr>\n",
              "    <tr>\n",
              "      <th>1</th>\n",
              "      <td>dona de casa</td>\n",
              "      <td>1200</td>\n",
              "      <td>1200</td>\n",
              "    </tr>\n",
              "    <tr>\n",
              "      <th>2</th>\n",
              "      <td>desempregado</td>\n",
              "      <td>0</td>\n",
              "      <td>0</td>\n",
              "    </tr>\n",
              "    <tr>\n",
              "      <th>3</th>\n",
              "      <td>Gerente de Projeto</td>\n",
              "      <td>5000</td>\n",
              "      <td>10000</td>\n",
              "    </tr>\n",
              "    <tr>\n",
              "      <th>4</th>\n",
              "      <td>Auxiliar de Enfermagem</td>\n",
              "      <td>1500</td>\n",
              "      <td>4000</td>\n",
              "    </tr>\n",
              "  </tbody>\n",
              "</table>\n",
              "</div>"
            ],
            "text/plain": [
              "               Profissões  salario até 3 anos  salaior +3 anos\n",
              "0      Cientista de Dados               10000            14000\n",
              "1            dona de casa                1200             1200\n",
              "2            desempregado                   0                0\n",
              "3      Gerente de Projeto                5000            10000\n",
              "4  Auxiliar de Enfermagem                1500             4000"
            ]
          },
          "metadata": {}
        }
      ]
    },
    {
      "cell_type": "markdown",
      "metadata": {
        "id": "Q5eNNwLFUc4i"
      },
      "source": [
        "#Mostre a Média Salarial do cadastro ?"
      ]
    },
    {
      "cell_type": "code",
      "metadata": {
        "colab": {
          "base_uri": "https://localhost:8080/"
        },
        "id": "Fq2fxeD5VvUB",
        "outputId": "93c65ab9-173f-4784-9d9b-a380950eadcd"
      },
      "source": [
        "cadastro_df.rename(columns={'Profissões': 'Profissões'}, inplace = True)\n",
        "salario_df.rename(columns={'salaior +3 anos': 'salario_maior_de_3_anos'}, inplace = True)\n",
        "salario_df.rename(columns={'salario até 3 anos': 'salario_ate_3_anos'}, inplace = True)\n",
        "df3 = pd.merge(cadastro_df, salario_df, on='Profissões')\n",
        "\n",
        "\n",
        "\n",
        "def salario_corresp(df3):\n",
        "    for cad in df3['experiencia profissional']:\n",
        "        if(cad <= 3):\n",
        "            df3['salario_corresp'] = df3['salario_ate_3_anos']\n",
        "        else:\n",
        "            df3['salario_corresp'] = df3['salario_maior_de_3_anos']\n",
        "    return df3\n",
        "\n",
        "df3 = salario_corresp(df3)\n",
        "\n",
        "df3.head(3)\n",
        "\n",
        "round(df3['salario_corresp'].mean(),2)"
      ],
      "execution_count": 62,
      "outputs": [
        {
          "output_type": "execute_result",
          "data": {
            "text/plain": [
              "3486.21"
            ]
          },
          "metadata": {},
          "execution_count": 62
        }
      ]
    },
    {
      "cell_type": "markdown",
      "metadata": {
        "id": "1hZGMcg3RKYp"
      },
      "source": [
        "#Quem tem o maior salario ?"
      ]
    },
    {
      "cell_type": "code",
      "metadata": {
        "colab": {
          "base_uri": "https://localhost:8080/"
        },
        "id": "NqED9PyIXmIC",
        "outputId": "53b624b2-a4ff-481c-8496-a4798137e74a"
      },
      "source": [
        "print(df3[['nome', 'Profissões','salario_corresp' ]][df3.salario_corresp == df3.salario_corresp.max()])"
      ],
      "execution_count": 63,
      "outputs": [
        {
          "output_type": "stream",
          "name": "stdout",
          "text": [
            "     nome Profissões  salario_corresp\n",
            "9  Mirtes     Médica            12000\n"
          ]
        }
      ]
    },
    {
      "cell_type": "markdown",
      "metadata": {
        "id": "jxhB1QVuRM7S"
      },
      "source": [
        "#Tirando desempregado quem recebe menos ?"
      ]
    },
    {
      "cell_type": "code",
      "metadata": {
        "colab": {
          "base_uri": "https://localhost:8080/"
        },
        "id": "lSA_Yoy6Xm5J",
        "outputId": "759f8893-b115-486d-8212-cac5856057ec"
      },
      "source": [
        "df3 = df3[df3['Profissões'] != \"desempregado\"]\n",
        "\n",
        "print(df3[['nome', 'Profissões','salario_corresp']][df3.salario_corresp == df3.salario_corresp.min()])"
      ],
      "execution_count": 65,
      "outputs": [
        {
          "output_type": "stream",
          "name": "stdout",
          "text": [
            "       nome Profissões  salario_corresp\n",
            "10   Camila  estudante                0\n",
            "11  Gabriel  estudante                0\n"
          ]
        }
      ]
    },
    {
      "cell_type": "markdown",
      "metadata": {
        "id": "Y8zd6SglRPBp"
      },
      "source": [
        "#Quantas pessoas gostam de caminhar no final de semana ?"
      ]
    },
    {
      "cell_type": "code",
      "metadata": {
        "colab": {
          "base_uri": "https://localhost:8080/"
        },
        "id": "4rGjPyT5Xrdj",
        "outputId": "21f49d08-f147-4484-ec97-ea3d8590a506"
      },
      "source": [
        "esporte_df = df3[(df3['lazer_final_de_semana'] == 'caminhar')]\n",
        "esporte_df.groupby(by='lazer_final_de_semana').size()"
      ],
      "execution_count": 66,
      "outputs": [
        {
          "output_type": "execute_result",
          "data": {
            "text/plain": [
              "lazer_final_de_semana\n",
              "caminhar    1\n",
              "dtype: int64"
            ]
          },
          "metadata": {},
          "execution_count": 66
        }
      ]
    },
    {
      "cell_type": "markdown",
      "metadata": {
        "id": "z0NatjBzRQwu"
      },
      "source": [
        "#Crie um gráfico mostrando entre a relação de escolaridade e quem pratica esporte ?"
      ]
    },
    {
      "cell_type": "code",
      "metadata": {
        "colab": {
          "base_uri": "https://localhost:8080/",
          "height": 135
        },
        "id": "gbDfqZMJhx1C",
        "outputId": "dfb788aa-f787-4261-b2f3-e1835b9b19cb"
      },
      "source": [
        "df3 = df3.replace('ensino Médio', 'Ensino Médio')\n",
        "df3 = df3.replace('ensino médio', 'Ensino Médio')\n",
        "df3 = df3.replace('ensino superior', 'Ensino Superior')\n",
        "df3['qtd_escolaridade'] = 1\n",
        "df3.head(1)"
      ],
      "execution_count": 91,
      "outputs": [
        {
          "output_type": "execute_result",
          "data": {
            "text/html": [
              "<div>\n",
              "<style scoped>\n",
              "    .dataframe tbody tr th:only-of-type {\n",
              "        vertical-align: middle;\n",
              "    }\n",
              "\n",
              "    .dataframe tbody tr th {\n",
              "        vertical-align: top;\n",
              "    }\n",
              "\n",
              "    .dataframe thead th {\n",
              "        text-align: right;\n",
              "    }\n",
              "</style>\n",
              "<table border=\"1\" class=\"dataframe\">\n",
              "  <thead>\n",
              "    <tr style=\"text-align: right;\">\n",
              "      <th></th>\n",
              "      <th>nome</th>\n",
              "      <th>sobrenome</th>\n",
              "      <th>ano_nascimento</th>\n",
              "      <th>sexo</th>\n",
              "      <th>cidade</th>\n",
              "      <th>Profissões</th>\n",
              "      <th>experiencia profissional</th>\n",
              "      <th>estado_civil</th>\n",
              "      <th>filhos</th>\n",
              "      <th>lazer_final_de_semana</th>\n",
              "      <th>pratica_esporte</th>\n",
              "      <th>qual_esporte</th>\n",
              "      <th>quanta_vezes_na_semana_pratica_esporte</th>\n",
              "      <th>tem carro</th>\n",
              "      <th>escolaridade</th>\n",
              "      <th>Km</th>\n",
              "      <th>idade</th>\n",
              "      <th>salario_ate_3_anos</th>\n",
              "      <th>salario_maior_de_3_anos</th>\n",
              "      <th>salario_corresp</th>\n",
              "      <th>qtd_escolaridade</th>\n",
              "    </tr>\n",
              "  </thead>\n",
              "  <tbody>\n",
              "    <tr>\n",
              "      <th>0</th>\n",
              "      <td>Dirceu</td>\n",
              "      <td>Manolo</td>\n",
              "      <td>1985</td>\n",
              "      <td>m</td>\n",
              "      <td>São Vicente</td>\n",
              "      <td>Cientista de Dados</td>\n",
              "      <td>4</td>\n",
              "      <td>Casado</td>\n",
              "      <td>1</td>\n",
              "      <td>estudar, academia, jogar video game,surfar</td>\n",
              "      <td>sim</td>\n",
              "      <td>academia</td>\n",
              "      <td>3.0</td>\n",
              "      <td>sim</td>\n",
              "      <td>Ensino Superior</td>\n",
              "      <td>34</td>\n",
              "      <td>36</td>\n",
              "      <td>10000</td>\n",
              "      <td>14000</td>\n",
              "      <td>10000</td>\n",
              "      <td>1</td>\n",
              "    </tr>\n",
              "  </tbody>\n",
              "</table>\n",
              "</div>"
            ],
            "text/plain": [
              "     nome sobrenome  ...  salario_corresp qtd_escolaridade\n",
              "0  Dirceu    Manolo  ...            10000                1\n",
              "\n",
              "[1 rows x 21 columns]"
            ]
          },
          "metadata": {},
          "execution_count": 91
        }
      ]
    },
    {
      "cell_type": "code",
      "metadata": {
        "colab": {
          "base_uri": "https://localhost:8080/",
          "height": 282
        },
        "id": "HS0nGWWWhrg6",
        "outputId": "c56d3011-ef44-4edc-a336-4f80c8619fe7"
      },
      "source": [
        "escolaridade = df3.groupby('escolaridade')\n",
        "escolaridade.sum()\n",
        "escolaridade.sum()['qtd_escolaridade'].plot(kind='barh',x='escolaridade',y='quantidade', color='pink')"
      ],
      "execution_count": 92,
      "outputs": [
        {
          "output_type": "execute_result",
          "data": {
            "text/plain": [
              "<matplotlib.axes._subplots.AxesSubplot at 0x7f7d0381a710>"
            ]
          },
          "metadata": {},
          "execution_count": 92
        },
        {
          "output_type": "display_data",
          "data": {
            "image/png": "[encoded data removed]",
            "text/plain": [
              "<Figure size 432x288 with 1 Axes>"
            ]
          },
          "metadata": {
            "needs_background": "light"
          }
        }
      ]
    },
    {
      "cell_type": "code",
      "metadata": {
        "colab": {
          "base_uri": "https://localhost:8080/",
          "height": 544
        },
        "id": "P3ddg5ugXsw6",
        "outputId": "8530f9e3-5142-47bd-fdf3-a19358fce9b1"
      },
      "source": [
        "esporte_escolaridade = df3.groupby('escolaridade')\n",
        "plt.figure(figsize=(14, 7))\n",
        "esporte_escolaridade.sum()['quanta_vezes_na_semana_pratica_esporte'].plot(kind='bar',x='escolaridade',y='quantidade', color='pink')\n",
        "plt.title(\"Relação de escolaridade e quem prática esporte\")"
      ],
      "execution_count": 93,
      "outputs": [
        {
          "output_type": "execute_result",
          "data": {
            "text/plain": [
              "Text(0.5, 1.0, 'Relação de escolaridade e quem prática esporte')"
            ]
          },
          "metadata": {},
          "execution_count": 93
        },
        {
          "output_type": "display_data",
          "data": {
            "image/png": "[encoded data removed]",
            "text/plain": [
              "<Figure size 1008x504 with 1 Axes>"
            ]
          },
          "metadata": {
            "needs_background": "light"
          }
        }
      ]
    },
    {
      "cell_type": "markdown",
      "metadata": {
        "id": "3yO80B3fRUmL"
      },
      "source": [
        "#Mostre de forma gráfica a distribuição de estados do cadastro ?"
      ]
    },
    {
      "cell_type": "code",
      "metadata": {
        "colab": {
          "base_uri": "https://localhost:8080/",
          "height": 555
        },
        "id": "gMVhcjZbXt3R",
        "outputId": "8958c2cd-fb8c-4595-b958-65977ffb4910"
      },
      "source": [
        "estados = df3.groupby('cidade')\n",
        "plt.figure(figsize=(14, 7))\n",
        "estados.sum()['quanta_vezes_na_semana_pratica_esporte'].plot(kind='bar',x='escolaridade',y='quantidade', color='pink')\n",
        "plt.title(\"Distribuição de estados do cadastro\")"
      ],
      "execution_count": 76,
      "outputs": [
        {
          "output_type": "execute_result",
          "data": {
            "text/plain": [
              "Text(0.5, 1.0, 'Distribuição de estados do cadastro')"
            ]
          },
          "metadata": {},
          "execution_count": 76
        },
        {
          "output_type": "display_data",
          "data": {
            "image/png": "[encoded data removed]",
            "text/plain": [
              "<Figure size 1008x504 with 1 Axes>"
            ]
          },
          "metadata": {
            "needs_background": "light"
          }
        }
      ]
    },
    {
      "cell_type": "markdown",
      "metadata": {
        "id": "G34ayfCwRSgy"
      },
      "source": [
        "#Crie um mapa de calor ?"
      ]
    },
    {
      "cell_type": "code",
      "metadata": {
        "colab": {
          "base_uri": "https://localhost:8080/",
          "height": 298
        },
        "id": "lON9ihy7Xua5",
        "outputId": "78614396-b1b5-4c9a-becb-92c80b93bf81"
      },
      "source": [
        "import numpy as np\n",
        "import matplotlib.pyplot as plot\n",
        "\n",
        "x = np.random.randn(10000) #'salaior +3 anos'\n",
        "y = np.random.randn(10000) #'salario até 3 anos'\n",
        "plot.hist2d(x,y,bins=10, color='pink')\n",
        "plot.title(\"mapa de calor\")\n"
      ],
      "execution_count": 121,
      "outputs": [
        {
          "output_type": "execute_result",
          "data": {
            "text/plain": [
              "Text(0.5, 1.0, 'mapa de calor')"
            ]
          },
          "metadata": {},
          "execution_count": 121
        },
        {
          "output_type": "display_data",
          "data": {
            "image/png": "[encoded data removed]",
            "text/plain": [
              "<Figure size 432x288 with 1 Axes>"
            ]
          },
          "metadata": {
            "needs_background": "light"
          }
        }
      ]
    }
  ]
}